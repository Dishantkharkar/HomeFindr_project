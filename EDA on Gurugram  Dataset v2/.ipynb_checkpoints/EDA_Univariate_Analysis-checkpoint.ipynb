{
 "cells": [
  {
   "cell_type": "code",
   "execution_count": 1,
   "metadata": {
    "id": "NImaikafgF90"
   },
   "outputs": [],
   "source": [
    "import numpy as np\n",
    "import pandas as pd\n",
    "import matplotlib.pyplot as plt\n",
    "import seaborn as sns"
   ]
  },
  {
   "cell_type": "code",
   "execution_count": 2,
   "metadata": {
    "id": "vmlNiQkQgeA8"
   },
   "outputs": [],
   "source": [
    "df = pd.read_csv(\"gurgaon_properties_cleaned_v2.csv\")"
   ]
  },
  {
   "cell_type": "code",
   "execution_count": 3,
   "metadata": {
    "colab": {
     "base_uri": "https://localhost:8080/",
     "height": 550
    },
    "id": "aDX2F6okgtDj",
    "outputId": "8bd17160-ffeb-42b8-f1eb-ae26b0a46931"
   },
   "outputs": [
    {
     "data": {
      "text/html": [
       "\n",
       "  <div id=\"df-feccb852-7a51-46b8-ba4d-27c8e7f4f992\" class=\"colab-df-container\">\n",
       "    <div>\n",
       "<style scoped>\n",
       "    .dataframe tbody tr th:only-of-type {\n",
       "        vertical-align: middle;\n",
       "    }\n",
       "\n",
       "    .dataframe tbody tr th {\n",
       "        vertical-align: top;\n",
       "    }\n",
       "\n",
       "    .dataframe thead th {\n",
       "        text-align: right;\n",
       "    }\n",
       "</style>\n",
       "<table border=\"1\" class=\"dataframe\">\n",
       "  <thead>\n",
       "    <tr style=\"text-align: right;\">\n",
       "      <th></th>\n",
       "      <th>property_type</th>\n",
       "      <th>society</th>\n",
       "      <th>sector</th>\n",
       "      <th>price</th>\n",
       "      <th>price_per_sqft</th>\n",
       "      <th>area</th>\n",
       "      <th>areaWithType</th>\n",
       "      <th>bedRoom</th>\n",
       "      <th>bathroom</th>\n",
       "      <th>balcony</th>\n",
       "      <th>...</th>\n",
       "      <th>super_built_up_area</th>\n",
       "      <th>built_up_area</th>\n",
       "      <th>carpet_area</th>\n",
       "      <th>study room</th>\n",
       "      <th>servant room</th>\n",
       "      <th>store room</th>\n",
       "      <th>pooja room</th>\n",
       "      <th>others</th>\n",
       "      <th>furnishing_type</th>\n",
       "      <th>luxury_score</th>\n",
       "    </tr>\n",
       "  </thead>\n",
       "  <tbody>\n",
       "    <tr>\n",
       "      <th>0</th>\n",
       "      <td>flat</td>\n",
       "      <td>signature global orchard avenue</td>\n",
       "      <td>sector 93</td>\n",
       "      <td>0.40</td>\n",
       "      <td>7359.0</td>\n",
       "      <td>544.0</td>\n",
       "      <td>Carpet area: 543.53 (50.5 sq.m.)</td>\n",
       "      <td>2</td>\n",
       "      <td>2</td>\n",
       "      <td>2</td>\n",
       "      <td>...</td>\n",
       "      <td>NaN</td>\n",
       "      <td>NaN</td>\n",
       "      <td>543.57695</td>\n",
       "      <td>0</td>\n",
       "      <td>0</td>\n",
       "      <td>0</td>\n",
       "      <td>0</td>\n",
       "      <td>0</td>\n",
       "      <td>0</td>\n",
       "      <td>37</td>\n",
       "    </tr>\n",
       "    <tr>\n",
       "      <th>1</th>\n",
       "      <td>flat</td>\n",
       "      <td>zara aavaas</td>\n",
       "      <td>sector 104</td>\n",
       "      <td>0.40</td>\n",
       "      <td>7029.0</td>\n",
       "      <td>569.0</td>\n",
       "      <td>Super Built up area 569(52.86 sq.m.)</td>\n",
       "      <td>2</td>\n",
       "      <td>2</td>\n",
       "      <td>1</td>\n",
       "      <td>...</td>\n",
       "      <td>569.0</td>\n",
       "      <td>NaN</td>\n",
       "      <td>NaN</td>\n",
       "      <td>0</td>\n",
       "      <td>0</td>\n",
       "      <td>0</td>\n",
       "      <td>0</td>\n",
       "      <td>0</td>\n",
       "      <td>0</td>\n",
       "      <td>38</td>\n",
       "    </tr>\n",
       "    <tr>\n",
       "      <th>2</th>\n",
       "      <td>flat</td>\n",
       "      <td>ats triumph</td>\n",
       "      <td>sector 104</td>\n",
       "      <td>2.55</td>\n",
       "      <td>13076.0</td>\n",
       "      <td>1950.0</td>\n",
       "      <td>Super Built up area 3150(292.64 sq.m.)Carpet a...</td>\n",
       "      <td>4</td>\n",
       "      <td>4</td>\n",
       "      <td>3+</td>\n",
       "      <td>...</td>\n",
       "      <td>3150.0</td>\n",
       "      <td>NaN</td>\n",
       "      <td>1950.00000</td>\n",
       "      <td>0</td>\n",
       "      <td>1</td>\n",
       "      <td>0</td>\n",
       "      <td>0</td>\n",
       "      <td>0</td>\n",
       "      <td>0</td>\n",
       "      <td>150</td>\n",
       "    </tr>\n",
       "    <tr>\n",
       "      <th>3</th>\n",
       "      <td>flat</td>\n",
       "      <td>experion the heartsong</td>\n",
       "      <td>sector 108</td>\n",
       "      <td>1.65</td>\n",
       "      <td>8237.0</td>\n",
       "      <td>2003.0</td>\n",
       "      <td>Super Built up area 2003(186.08 sq.m.)Built Up...</td>\n",
       "      <td>3</td>\n",
       "      <td>4</td>\n",
       "      <td>3</td>\n",
       "      <td>...</td>\n",
       "      <td>2003.0</td>\n",
       "      <td>1771.32</td>\n",
       "      <td>1302.01000</td>\n",
       "      <td>1</td>\n",
       "      <td>0</td>\n",
       "      <td>0</td>\n",
       "      <td>0</td>\n",
       "      <td>0</td>\n",
       "      <td>2</td>\n",
       "      <td>75</td>\n",
       "    </tr>\n",
       "    <tr>\n",
       "      <th>4</th>\n",
       "      <td>house</td>\n",
       "      <td>unitech deerwood chase</td>\n",
       "      <td>sector 50</td>\n",
       "      <td>8.45</td>\n",
       "      <td>235376.0</td>\n",
       "      <td>359.0</td>\n",
       "      <td>Plot area 359(33.35 sq.m.)</td>\n",
       "      <td>3</td>\n",
       "      <td>3</td>\n",
       "      <td>2</td>\n",
       "      <td>...</td>\n",
       "      <td>NaN</td>\n",
       "      <td>359.00</td>\n",
       "      <td>NaN</td>\n",
       "      <td>1</td>\n",
       "      <td>1</td>\n",
       "      <td>0</td>\n",
       "      <td>0</td>\n",
       "      <td>0</td>\n",
       "      <td>2</td>\n",
       "      <td>102</td>\n",
       "    </tr>\n",
       "  </tbody>\n",
       "</table>\n",
       "<p>5 rows × 23 columns</p>\n",
       "</div>\n",
       "    <div class=\"colab-df-buttons\">\n",
       "\n",
       "  <div class=\"colab-df-container\">\n",
       "    <button class=\"colab-df-convert\" onclick=\"convertToInteractive('df-feccb852-7a51-46b8-ba4d-27c8e7f4f992')\"\n",
       "            title=\"Convert this dataframe to an interactive table.\"\n",
       "            style=\"display:none;\">\n",
       "\n",
       "  <svg xmlns=\"http://www.w3.org/2000/svg\" height=\"24px\" viewBox=\"0 -960 960 960\">\n",
       "    <path d=\"M120-120v-720h720v720H120Zm60-500h600v-160H180v160Zm220 220h160v-160H400v160Zm0 220h160v-160H400v160ZM180-400h160v-160H180v160Zm440 0h160v-160H620v160ZM180-180h160v-160H180v160Zm440 0h160v-160H620v160Z\"/>\n",
       "  </svg>\n",
       "    </button>\n",
       "\n",
       "  <style>\n",
       "    .colab-df-container {\n",
       "      display:flex;\n",
       "      gap: 12px;\n",
       "    }\n",
       "\n",
       "    .colab-df-convert {\n",
       "      background-color: #E8F0FE;\n",
       "      border: none;\n",
       "      border-radius: 50%;\n",
       "      cursor: pointer;\n",
       "      display: none;\n",
       "      fill: #1967D2;\n",
       "      height: 32px;\n",
       "      padding: 0 0 0 0;\n",
       "      width: 32px;\n",
       "    }\n",
       "\n",
       "    .colab-df-convert:hover {\n",
       "      background-color: #E2EBFA;\n",
       "      box-shadow: 0px 1px 2px rgba(60, 64, 67, 0.3), 0px 1px 3px 1px rgba(60, 64, 67, 0.15);\n",
       "      fill: #174EA6;\n",
       "    }\n",
       "\n",
       "    .colab-df-buttons div {\n",
       "      margin-bottom: 4px;\n",
       "    }\n",
       "\n",
       "    [theme=dark] .colab-df-convert {\n",
       "      background-color: #3B4455;\n",
       "      fill: #D2E3FC;\n",
       "    }\n",
       "\n",
       "    [theme=dark] .colab-df-convert:hover {\n",
       "      background-color: #434B5C;\n",
       "      box-shadow: 0px 1px 3px 1px rgba(0, 0, 0, 0.15);\n",
       "      filter: drop-shadow(0px 1px 2px rgba(0, 0, 0, 0.3));\n",
       "      fill: #FFFFFF;\n",
       "    }\n",
       "  </style>\n",
       "\n",
       "    <script>\n",
       "      const buttonEl =\n",
       "        document.querySelector('#df-feccb852-7a51-46b8-ba4d-27c8e7f4f992 button.colab-df-convert');\n",
       "      buttonEl.style.display =\n",
       "        google.colab.kernel.accessAllowed ? 'block' : 'none';\n",
       "\n",
       "      async function convertToInteractive(key) {\n",
       "        const element = document.querySelector('#df-feccb852-7a51-46b8-ba4d-27c8e7f4f992');\n",
       "        const dataTable =\n",
       "          await google.colab.kernel.invokeFunction('convertToInteractive',\n",
       "                                                    [key], {});\n",
       "        if (!dataTable) return;\n",
       "\n",
       "        const docLinkHtml = 'Like what you see? Visit the ' +\n",
       "          '<a target=\"_blank\" href=https://colab.research.google.com/notebooks/data_table.ipynb>data table notebook</a>'\n",
       "          + ' to learn more about interactive tables.';\n",
       "        element.innerHTML = '';\n",
       "        dataTable['output_type'] = 'display_data';\n",
       "        await google.colab.output.renderOutput(dataTable, element);\n",
       "        const docLink = document.createElement('div');\n",
       "        docLink.innerHTML = docLinkHtml;\n",
       "        element.appendChild(docLink);\n",
       "      }\n",
       "    </script>\n",
       "  </div>\n",
       "\n",
       "\n",
       "<div id=\"df-ba4cbac5-5675-414e-adb3-49b9bfb75719\">\n",
       "  <button class=\"colab-df-quickchart\" onclick=\"quickchart('df-ba4cbac5-5675-414e-adb3-49b9bfb75719')\"\n",
       "            title=\"Suggest charts.\"\n",
       "            style=\"display:none;\">\n",
       "\n",
       "<svg xmlns=\"http://www.w3.org/2000/svg\" height=\"24px\"viewBox=\"0 0 24 24\"\n",
       "     width=\"24px\">\n",
       "    <g>\n",
       "        <path d=\"M19 3H5c-1.1 0-2 .9-2 2v14c0 1.1.9 2 2 2h14c1.1 0 2-.9 2-2V5c0-1.1-.9-2-2-2zM9 17H7v-7h2v7zm4 0h-2V7h2v10zm4 0h-2v-4h2v4z\"/>\n",
       "    </g>\n",
       "</svg>\n",
       "  </button>\n",
       "\n",
       "<style>\n",
       "  .colab-df-quickchart {\n",
       "      --bg-color: #E8F0FE;\n",
       "      --fill-color: #1967D2;\n",
       "      --hover-bg-color: #E2EBFA;\n",
       "      --hover-fill-color: #174EA6;\n",
       "      --disabled-fill-color: #AAA;\n",
       "      --disabled-bg-color: #DDD;\n",
       "  }\n",
       "\n",
       "  [theme=dark] .colab-df-quickchart {\n",
       "      --bg-color: #3B4455;\n",
       "      --fill-color: #D2E3FC;\n",
       "      --hover-bg-color: #434B5C;\n",
       "      --hover-fill-color: #FFFFFF;\n",
       "      --disabled-bg-color: #3B4455;\n",
       "      --disabled-fill-color: #666;\n",
       "  }\n",
       "\n",
       "  .colab-df-quickchart {\n",
       "    background-color: var(--bg-color);\n",
       "    border: none;\n",
       "    border-radius: 50%;\n",
       "    cursor: pointer;\n",
       "    display: none;\n",
       "    fill: var(--fill-color);\n",
       "    height: 32px;\n",
       "    padding: 0;\n",
       "    width: 32px;\n",
       "  }\n",
       "\n",
       "  .colab-df-quickchart:hover {\n",
       "    background-color: var(--hover-bg-color);\n",
       "    box-shadow: 0 1px 2px rgba(60, 64, 67, 0.3), 0 1px 3px 1px rgba(60, 64, 67, 0.15);\n",
       "    fill: var(--button-hover-fill-color);\n",
       "  }\n",
       "\n",
       "  .colab-df-quickchart-complete:disabled,\n",
       "  .colab-df-quickchart-complete:disabled:hover {\n",
       "    background-color: var(--disabled-bg-color);\n",
       "    fill: var(--disabled-fill-color);\n",
       "    box-shadow: none;\n",
       "  }\n",
       "\n",
       "  .colab-df-spinner {\n",
       "    border: 2px solid var(--fill-color);\n",
       "    border-color: transparent;\n",
       "    border-bottom-color: var(--fill-color);\n",
       "    animation:\n",
       "      spin 1s steps(1) infinite;\n",
       "  }\n",
       "\n",
       "  @keyframes spin {\n",
       "    0% {\n",
       "      border-color: transparent;\n",
       "      border-bottom-color: var(--fill-color);\n",
       "      border-left-color: var(--fill-color);\n",
       "    }\n",
       "    20% {\n",
       "      border-color: transparent;\n",
       "      border-left-color: var(--fill-color);\n",
       "      border-top-color: var(--fill-color);\n",
       "    }\n",
       "    30% {\n",
       "      border-color: transparent;\n",
       "      border-left-color: var(--fill-color);\n",
       "      border-top-color: var(--fill-color);\n",
       "      border-right-color: var(--fill-color);\n",
       "    }\n",
       "    40% {\n",
       "      border-color: transparent;\n",
       "      border-right-color: var(--fill-color);\n",
       "      border-top-color: var(--fill-color);\n",
       "    }\n",
       "    60% {\n",
       "      border-color: transparent;\n",
       "      border-right-color: var(--fill-color);\n",
       "    }\n",
       "    80% {\n",
       "      border-color: transparent;\n",
       "      border-right-color: var(--fill-color);\n",
       "      border-bottom-color: var(--fill-color);\n",
       "    }\n",
       "    90% {\n",
       "      border-color: transparent;\n",
       "      border-bottom-color: var(--fill-color);\n",
       "    }\n",
       "  }\n",
       "</style>\n",
       "\n",
       "  <script>\n",
       "    async function quickchart(key) {\n",
       "      const quickchartButtonEl =\n",
       "        document.querySelector('#' + key + ' button');\n",
       "      quickchartButtonEl.disabled = true;  // To prevent multiple clicks.\n",
       "      quickchartButtonEl.classList.add('colab-df-spinner');\n",
       "      try {\n",
       "        const charts = await google.colab.kernel.invokeFunction(\n",
       "            'suggestCharts', [key], {});\n",
       "      } catch (error) {\n",
       "        console.error('Error during call to suggestCharts:', error);\n",
       "      }\n",
       "      quickchartButtonEl.classList.remove('colab-df-spinner');\n",
       "      quickchartButtonEl.classList.add('colab-df-quickchart-complete');\n",
       "    }\n",
       "    (() => {\n",
       "      let quickchartButtonEl =\n",
       "        document.querySelector('#df-ba4cbac5-5675-414e-adb3-49b9bfb75719 button');\n",
       "      quickchartButtonEl.style.display =\n",
       "        google.colab.kernel.accessAllowed ? 'block' : 'none';\n",
       "    })();\n",
       "  </script>\n",
       "</div>\n",
       "    </div>\n",
       "  </div>\n"
      ],
      "text/plain": [
       "  property_type                          society      sector  price  \\\n",
       "0          flat  signature global orchard avenue   sector 93   0.40   \n",
       "1          flat                      zara aavaas  sector 104   0.40   \n",
       "2          flat                      ats triumph  sector 104   2.55   \n",
       "3          flat           experion the heartsong  sector 108   1.65   \n",
       "4         house           unitech deerwood chase   sector 50   8.45   \n",
       "\n",
       "   price_per_sqft    area                                       areaWithType  \\\n",
       "0          7359.0   544.0                   Carpet area: 543.53 (50.5 sq.m.)   \n",
       "1          7029.0   569.0               Super Built up area 569(52.86 sq.m.)   \n",
       "2         13076.0  1950.0  Super Built up area 3150(292.64 sq.m.)Carpet a...   \n",
       "3          8237.0  2003.0  Super Built up area 2003(186.08 sq.m.)Built Up...   \n",
       "4        235376.0   359.0                         Plot area 359(33.35 sq.m.)   \n",
       "\n",
       "   bedRoom  bathroom balcony  ...  super_built_up_area built_up_area  \\\n",
       "0        2         2       2  ...                  NaN           NaN   \n",
       "1        2         2       1  ...                569.0           NaN   \n",
       "2        4         4      3+  ...               3150.0           NaN   \n",
       "3        3         4       3  ...               2003.0       1771.32   \n",
       "4        3         3       2  ...                  NaN        359.00   \n",
       "\n",
       "  carpet_area  study room  servant room  store room  pooja room  others  \\\n",
       "0   543.57695           0             0           0           0       0   \n",
       "1         NaN           0             0           0           0       0   \n",
       "2  1950.00000           0             1           0           0       0   \n",
       "3  1302.01000           1             0           0           0       0   \n",
       "4         NaN           1             1           0           0       0   \n",
       "\n",
       "   furnishing_type  luxury_score  \n",
       "0                0            37  \n",
       "1                0            38  \n",
       "2                0           150  \n",
       "3                2            75  \n",
       "4                2           102  \n",
       "\n",
       "[5 rows x 23 columns]"
      ]
     },
     "execution_count": 3,
     "metadata": {},
     "output_type": "execute_result"
    }
   ],
   "source": [
    "df.head()"
   ]
  },
  {
   "cell_type": "code",
   "execution_count": 4,
   "metadata": {
    "colab": {
     "base_uri": "https://localhost:8080/"
    },
    "id": "OnT0w0sOgylY",
    "outputId": "23f77af3-db9b-4963-c34f-5dcbbb50bd86"
   },
   "outputs": [
    {
     "data": {
      "text/plain": [
       "(3803, 23)"
      ]
     },
     "execution_count": 4,
     "metadata": {},
     "output_type": "execute_result"
    }
   ],
   "source": [
    "df.shape"
   ]
  },
  {
   "cell_type": "code",
   "execution_count": 5,
   "metadata": {
    "colab": {
     "base_uri": "https://localhost:8080/"
    },
    "id": "8ypyn2_9g71B",
    "outputId": "9e3177a9-7c64-4139-b753-ed589c1aa1b8"
   },
   "outputs": [
    {
     "name": "stdout",
     "output_type": "stream",
     "text": [
      "<class 'pandas.core.frame.DataFrame'>\n",
      "RangeIndex: 3803 entries, 0 to 3802\n",
      "Data columns (total 23 columns):\n",
      " #   Column               Non-Null Count  Dtype  \n",
      "---  ------               --------------  -----  \n",
      " 0   property_type        3803 non-null   object \n",
      " 1   society              3802 non-null   object \n",
      " 2   sector               3803 non-null   object \n",
      " 3   price                3785 non-null   float64\n",
      " 4   price_per_sqft       3785 non-null   float64\n",
      " 5   area                 3785 non-null   float64\n",
      " 6   areaWithType         3803 non-null   object \n",
      " 7   bedRoom              3803 non-null   int64  \n",
      " 8   bathroom             3803 non-null   int64  \n",
      " 9   balcony              3803 non-null   object \n",
      " 10  floorNum             3784 non-null   float64\n",
      " 11  facing               2698 non-null   object \n",
      " 12  agePossession        3803 non-null   object \n",
      " 13  super_built_up_area  1915 non-null   float64\n",
      " 14  built_up_area        1733 non-null   float64\n",
      " 15  carpet_area          1944 non-null   float64\n",
      " 16  study room           3803 non-null   int64  \n",
      " 17  servant room         3803 non-null   int64  \n",
      " 18  store room           3803 non-null   int64  \n",
      " 19  pooja room           3803 non-null   int64  \n",
      " 20  others               3803 non-null   int64  \n",
      " 21  furnishing_type      3803 non-null   int64  \n",
      " 22  luxury_score         3803 non-null   int64  \n",
      "dtypes: float64(7), int64(9), object(7)\n",
      "memory usage: 683.5+ KB\n"
     ]
    }
   ],
   "source": [
    "df.info()"
   ]
  },
  {
   "cell_type": "code",
   "execution_count": 6,
   "metadata": {
    "colab": {
     "base_uri": "https://localhost:8080/"
    },
    "id": "DezthDPng-RZ",
    "outputId": "489449c4-99a5-44d3-816a-3022729ee68a"
   },
   "outputs": [
    {
     "data": {
      "text/plain": [
       "126"
      ]
     },
     "execution_count": 6,
     "metadata": {},
     "output_type": "execute_result"
    }
   ],
   "source": [
    "df.duplicated().sum()"
   ]
  },
  {
   "cell_type": "code",
   "execution_count": 7,
   "metadata": {
    "id": "FTyg3O_NhECw"
   },
   "outputs": [],
   "source": [
    "df.drop_duplicates(inplace=True)"
   ]
  },
  {
   "cell_type": "code",
   "execution_count": 8,
   "metadata": {
    "colab": {
     "base_uri": "https://localhost:8080/",
     "height": 550
    },
    "id": "UHcVYnruhJkw",
    "outputId": "c455d271-d123-4156-d93d-7e97e77d9851"
   },
   "outputs": [
    {
     "data": {
      "text/html": [
       "\n",
       "  <div id=\"df-901ad553-54d9-4c33-a6c2-3deb5b9735d4\" class=\"colab-df-container\">\n",
       "    <div>\n",
       "<style scoped>\n",
       "    .dataframe tbody tr th:only-of-type {\n",
       "        vertical-align: middle;\n",
       "    }\n",
       "\n",
       "    .dataframe tbody tr th {\n",
       "        vertical-align: top;\n",
       "    }\n",
       "\n",
       "    .dataframe thead th {\n",
       "        text-align: right;\n",
       "    }\n",
       "</style>\n",
       "<table border=\"1\" class=\"dataframe\">\n",
       "  <thead>\n",
       "    <tr style=\"text-align: right;\">\n",
       "      <th></th>\n",
       "      <th>property_type</th>\n",
       "      <th>society</th>\n",
       "      <th>sector</th>\n",
       "      <th>price</th>\n",
       "      <th>price_per_sqft</th>\n",
       "      <th>area</th>\n",
       "      <th>areaWithType</th>\n",
       "      <th>bedRoom</th>\n",
       "      <th>bathroom</th>\n",
       "      <th>balcony</th>\n",
       "      <th>...</th>\n",
       "      <th>super_built_up_area</th>\n",
       "      <th>built_up_area</th>\n",
       "      <th>carpet_area</th>\n",
       "      <th>study room</th>\n",
       "      <th>servant room</th>\n",
       "      <th>store room</th>\n",
       "      <th>pooja room</th>\n",
       "      <th>others</th>\n",
       "      <th>furnishing_type</th>\n",
       "      <th>luxury_score</th>\n",
       "    </tr>\n",
       "  </thead>\n",
       "  <tbody>\n",
       "    <tr>\n",
       "      <th>0</th>\n",
       "      <td>flat</td>\n",
       "      <td>signature global orchard avenue</td>\n",
       "      <td>sector 93</td>\n",
       "      <td>0.40</td>\n",
       "      <td>7359.0</td>\n",
       "      <td>544.0</td>\n",
       "      <td>Carpet area: 543.53 (50.5 sq.m.)</td>\n",
       "      <td>2</td>\n",
       "      <td>2</td>\n",
       "      <td>2</td>\n",
       "      <td>...</td>\n",
       "      <td>NaN</td>\n",
       "      <td>NaN</td>\n",
       "      <td>543.57695</td>\n",
       "      <td>0</td>\n",
       "      <td>0</td>\n",
       "      <td>0</td>\n",
       "      <td>0</td>\n",
       "      <td>0</td>\n",
       "      <td>0</td>\n",
       "      <td>37</td>\n",
       "    </tr>\n",
       "    <tr>\n",
       "      <th>1</th>\n",
       "      <td>flat</td>\n",
       "      <td>zara aavaas</td>\n",
       "      <td>sector 104</td>\n",
       "      <td>0.40</td>\n",
       "      <td>7029.0</td>\n",
       "      <td>569.0</td>\n",
       "      <td>Super Built up area 569(52.86 sq.m.)</td>\n",
       "      <td>2</td>\n",
       "      <td>2</td>\n",
       "      <td>1</td>\n",
       "      <td>...</td>\n",
       "      <td>569.0</td>\n",
       "      <td>NaN</td>\n",
       "      <td>NaN</td>\n",
       "      <td>0</td>\n",
       "      <td>0</td>\n",
       "      <td>0</td>\n",
       "      <td>0</td>\n",
       "      <td>0</td>\n",
       "      <td>0</td>\n",
       "      <td>38</td>\n",
       "    </tr>\n",
       "    <tr>\n",
       "      <th>2</th>\n",
       "      <td>flat</td>\n",
       "      <td>ats triumph</td>\n",
       "      <td>sector 104</td>\n",
       "      <td>2.55</td>\n",
       "      <td>13076.0</td>\n",
       "      <td>1950.0</td>\n",
       "      <td>Super Built up area 3150(292.64 sq.m.)Carpet a...</td>\n",
       "      <td>4</td>\n",
       "      <td>4</td>\n",
       "      <td>3+</td>\n",
       "      <td>...</td>\n",
       "      <td>3150.0</td>\n",
       "      <td>NaN</td>\n",
       "      <td>1950.00000</td>\n",
       "      <td>0</td>\n",
       "      <td>1</td>\n",
       "      <td>0</td>\n",
       "      <td>0</td>\n",
       "      <td>0</td>\n",
       "      <td>0</td>\n",
       "      <td>150</td>\n",
       "    </tr>\n",
       "    <tr>\n",
       "      <th>3</th>\n",
       "      <td>flat</td>\n",
       "      <td>experion the heartsong</td>\n",
       "      <td>sector 108</td>\n",
       "      <td>1.65</td>\n",
       "      <td>8237.0</td>\n",
       "      <td>2003.0</td>\n",
       "      <td>Super Built up area 2003(186.08 sq.m.)Built Up...</td>\n",
       "      <td>3</td>\n",
       "      <td>4</td>\n",
       "      <td>3</td>\n",
       "      <td>...</td>\n",
       "      <td>2003.0</td>\n",
       "      <td>1771.32</td>\n",
       "      <td>1302.01000</td>\n",
       "      <td>1</td>\n",
       "      <td>0</td>\n",
       "      <td>0</td>\n",
       "      <td>0</td>\n",
       "      <td>0</td>\n",
       "      <td>2</td>\n",
       "      <td>75</td>\n",
       "    </tr>\n",
       "    <tr>\n",
       "      <th>4</th>\n",
       "      <td>house</td>\n",
       "      <td>unitech deerwood chase</td>\n",
       "      <td>sector 50</td>\n",
       "      <td>8.45</td>\n",
       "      <td>235376.0</td>\n",
       "      <td>359.0</td>\n",
       "      <td>Plot area 359(33.35 sq.m.)</td>\n",
       "      <td>3</td>\n",
       "      <td>3</td>\n",
       "      <td>2</td>\n",
       "      <td>...</td>\n",
       "      <td>NaN</td>\n",
       "      <td>359.00</td>\n",
       "      <td>NaN</td>\n",
       "      <td>1</td>\n",
       "      <td>1</td>\n",
       "      <td>0</td>\n",
       "      <td>0</td>\n",
       "      <td>0</td>\n",
       "      <td>2</td>\n",
       "      <td>102</td>\n",
       "    </tr>\n",
       "  </tbody>\n",
       "</table>\n",
       "<p>5 rows × 23 columns</p>\n",
       "</div>\n",
       "    <div class=\"colab-df-buttons\">\n",
       "\n",
       "  <div class=\"colab-df-container\">\n",
       "    <button class=\"colab-df-convert\" onclick=\"convertToInteractive('df-901ad553-54d9-4c33-a6c2-3deb5b9735d4')\"\n",
       "            title=\"Convert this dataframe to an interactive table.\"\n",
       "            style=\"display:none;\">\n",
       "\n",
       "  <svg xmlns=\"http://www.w3.org/2000/svg\" height=\"24px\" viewBox=\"0 -960 960 960\">\n",
       "    <path d=\"M120-120v-720h720v720H120Zm60-500h600v-160H180v160Zm220 220h160v-160H400v160Zm0 220h160v-160H400v160ZM180-400h160v-160H180v160Zm440 0h160v-160H620v160ZM180-180h160v-160H180v160Zm440 0h160v-160H620v160Z\"/>\n",
       "  </svg>\n",
       "    </button>\n",
       "\n",
       "  <style>\n",
       "    .colab-df-container {\n",
       "      display:flex;\n",
       "      gap: 12px;\n",
       "    }\n",
       "\n",
       "    .colab-df-convert {\n",
       "      background-color: #E8F0FE;\n",
       "      border: none;\n",
       "      border-radius: 50%;\n",
       "      cursor: pointer;\n",
       "      display: none;\n",
       "      fill: #1967D2;\n",
       "      height: 32px;\n",
       "      padding: 0 0 0 0;\n",
       "      width: 32px;\n",
       "    }\n",
       "\n",
       "    .colab-df-convert:hover {\n",
       "      background-color: #E2EBFA;\n",
       "      box-shadow: 0px 1px 2px rgba(60, 64, 67, 0.3), 0px 1px 3px 1px rgba(60, 64, 67, 0.15);\n",
       "      fill: #174EA6;\n",
       "    }\n",
       "\n",
       "    .colab-df-buttons div {\n",
       "      margin-bottom: 4px;\n",
       "    }\n",
       "\n",
       "    [theme=dark] .colab-df-convert {\n",
       "      background-color: #3B4455;\n",
       "      fill: #D2E3FC;\n",
       "    }\n",
       "\n",
       "    [theme=dark] .colab-df-convert:hover {\n",
       "      background-color: #434B5C;\n",
       "      box-shadow: 0px 1px 3px 1px rgba(0, 0, 0, 0.15);\n",
       "      filter: drop-shadow(0px 1px 2px rgba(0, 0, 0, 0.3));\n",
       "      fill: #FFFFFF;\n",
       "    }\n",
       "  </style>\n",
       "\n",
       "    <script>\n",
       "      const buttonEl =\n",
       "        document.querySelector('#df-901ad553-54d9-4c33-a6c2-3deb5b9735d4 button.colab-df-convert');\n",
       "      buttonEl.style.display =\n",
       "        google.colab.kernel.accessAllowed ? 'block' : 'none';\n",
       "\n",
       "      async function convertToInteractive(key) {\n",
       "        const element = document.querySelector('#df-901ad553-54d9-4c33-a6c2-3deb5b9735d4');\n",
       "        const dataTable =\n",
       "          await google.colab.kernel.invokeFunction('convertToInteractive',\n",
       "                                                    [key], {});\n",
       "        if (!dataTable) return;\n",
       "\n",
       "        const docLinkHtml = 'Like what you see? Visit the ' +\n",
       "          '<a target=\"_blank\" href=https://colab.research.google.com/notebooks/data_table.ipynb>data table notebook</a>'\n",
       "          + ' to learn more about interactive tables.';\n",
       "        element.innerHTML = '';\n",
       "        dataTable['output_type'] = 'display_data';\n",
       "        await google.colab.output.renderOutput(dataTable, element);\n",
       "        const docLink = document.createElement('div');\n",
       "        docLink.innerHTML = docLinkHtml;\n",
       "        element.appendChild(docLink);\n",
       "      }\n",
       "    </script>\n",
       "  </div>\n",
       "\n",
       "\n",
       "<div id=\"df-5252f8e2-83d6-4a8b-9d29-f649a714146c\">\n",
       "  <button class=\"colab-df-quickchart\" onclick=\"quickchart('df-5252f8e2-83d6-4a8b-9d29-f649a714146c')\"\n",
       "            title=\"Suggest charts.\"\n",
       "            style=\"display:none;\">\n",
       "\n",
       "<svg xmlns=\"http://www.w3.org/2000/svg\" height=\"24px\"viewBox=\"0 0 24 24\"\n",
       "     width=\"24px\">\n",
       "    <g>\n",
       "        <path d=\"M19 3H5c-1.1 0-2 .9-2 2v14c0 1.1.9 2 2 2h14c1.1 0 2-.9 2-2V5c0-1.1-.9-2-2-2zM9 17H7v-7h2v7zm4 0h-2V7h2v10zm4 0h-2v-4h2v4z\"/>\n",
       "    </g>\n",
       "</svg>\n",
       "  </button>\n",
       "\n",
       "<style>\n",
       "  .colab-df-quickchart {\n",
       "      --bg-color: #E8F0FE;\n",
       "      --fill-color: #1967D2;\n",
       "      --hover-bg-color: #E2EBFA;\n",
       "      --hover-fill-color: #174EA6;\n",
       "      --disabled-fill-color: #AAA;\n",
       "      --disabled-bg-color: #DDD;\n",
       "  }\n",
       "\n",
       "  [theme=dark] .colab-df-quickchart {\n",
       "      --bg-color: #3B4455;\n",
       "      --fill-color: #D2E3FC;\n",
       "      --hover-bg-color: #434B5C;\n",
       "      --hover-fill-color: #FFFFFF;\n",
       "      --disabled-bg-color: #3B4455;\n",
       "      --disabled-fill-color: #666;\n",
       "  }\n",
       "\n",
       "  .colab-df-quickchart {\n",
       "    background-color: var(--bg-color);\n",
       "    border: none;\n",
       "    border-radius: 50%;\n",
       "    cursor: pointer;\n",
       "    display: none;\n",
       "    fill: var(--fill-color);\n",
       "    height: 32px;\n",
       "    padding: 0;\n",
       "    width: 32px;\n",
       "  }\n",
       "\n",
       "  .colab-df-quickchart:hover {\n",
       "    background-color: var(--hover-bg-color);\n",
       "    box-shadow: 0 1px 2px rgba(60, 64, 67, 0.3), 0 1px 3px 1px rgba(60, 64, 67, 0.15);\n",
       "    fill: var(--button-hover-fill-color);\n",
       "  }\n",
       "\n",
       "  .colab-df-quickchart-complete:disabled,\n",
       "  .colab-df-quickchart-complete:disabled:hover {\n",
       "    background-color: var(--disabled-bg-color);\n",
       "    fill: var(--disabled-fill-color);\n",
       "    box-shadow: none;\n",
       "  }\n",
       "\n",
       "  .colab-df-spinner {\n",
       "    border: 2px solid var(--fill-color);\n",
       "    border-color: transparent;\n",
       "    border-bottom-color: var(--fill-color);\n",
       "    animation:\n",
       "      spin 1s steps(1) infinite;\n",
       "  }\n",
       "\n",
       "  @keyframes spin {\n",
       "    0% {\n",
       "      border-color: transparent;\n",
       "      border-bottom-color: var(--fill-color);\n",
       "      border-left-color: var(--fill-color);\n",
       "    }\n",
       "    20% {\n",
       "      border-color: transparent;\n",
       "      border-left-color: var(--fill-color);\n",
       "      border-top-color: var(--fill-color);\n",
       "    }\n",
       "    30% {\n",
       "      border-color: transparent;\n",
       "      border-left-color: var(--fill-color);\n",
       "      border-top-color: var(--fill-color);\n",
       "      border-right-color: var(--fill-color);\n",
       "    }\n",
       "    40% {\n",
       "      border-color: transparent;\n",
       "      border-right-color: var(--fill-color);\n",
       "      border-top-color: var(--fill-color);\n",
       "    }\n",
       "    60% {\n",
       "      border-color: transparent;\n",
       "      border-right-color: var(--fill-color);\n",
       "    }\n",
       "    80% {\n",
       "      border-color: transparent;\n",
       "      border-right-color: var(--fill-color);\n",
       "      border-bottom-color: var(--fill-color);\n",
       "    }\n",
       "    90% {\n",
       "      border-color: transparent;\n",
       "      border-bottom-color: var(--fill-color);\n",
       "    }\n",
       "  }\n",
       "</style>\n",
       "\n",
       "  <script>\n",
       "    async function quickchart(key) {\n",
       "      const quickchartButtonEl =\n",
       "        document.querySelector('#' + key + ' button');\n",
       "      quickchartButtonEl.disabled = true;  // To prevent multiple clicks.\n",
       "      quickchartButtonEl.classList.add('colab-df-spinner');\n",
       "      try {\n",
       "        const charts = await google.colab.kernel.invokeFunction(\n",
       "            'suggestCharts', [key], {});\n",
       "      } catch (error) {\n",
       "        console.error('Error during call to suggestCharts:', error);\n",
       "      }\n",
       "      quickchartButtonEl.classList.remove('colab-df-spinner');\n",
       "      quickchartButtonEl.classList.add('colab-df-quickchart-complete');\n",
       "    }\n",
       "    (() => {\n",
       "      let quickchartButtonEl =\n",
       "        document.querySelector('#df-5252f8e2-83d6-4a8b-9d29-f649a714146c button');\n",
       "      quickchartButtonEl.style.display =\n",
       "        google.colab.kernel.accessAllowed ? 'block' : 'none';\n",
       "    })();\n",
       "  </script>\n",
       "</div>\n",
       "    </div>\n",
       "  </div>\n"
      ],
      "text/plain": [
       "  property_type                          society      sector  price  \\\n",
       "0          flat  signature global orchard avenue   sector 93   0.40   \n",
       "1          flat                      zara aavaas  sector 104   0.40   \n",
       "2          flat                      ats triumph  sector 104   2.55   \n",
       "3          flat           experion the heartsong  sector 108   1.65   \n",
       "4         house           unitech deerwood chase   sector 50   8.45   \n",
       "\n",
       "   price_per_sqft    area                                       areaWithType  \\\n",
       "0          7359.0   544.0                   Carpet area: 543.53 (50.5 sq.m.)   \n",
       "1          7029.0   569.0               Super Built up area 569(52.86 sq.m.)   \n",
       "2         13076.0  1950.0  Super Built up area 3150(292.64 sq.m.)Carpet a...   \n",
       "3          8237.0  2003.0  Super Built up area 2003(186.08 sq.m.)Built Up...   \n",
       "4        235376.0   359.0                         Plot area 359(33.35 sq.m.)   \n",
       "\n",
       "   bedRoom  bathroom balcony  ...  super_built_up_area built_up_area  \\\n",
       "0        2         2       2  ...                  NaN           NaN   \n",
       "1        2         2       1  ...                569.0           NaN   \n",
       "2        4         4      3+  ...               3150.0           NaN   \n",
       "3        3         4       3  ...               2003.0       1771.32   \n",
       "4        3         3       2  ...                  NaN        359.00   \n",
       "\n",
       "  carpet_area  study room  servant room  store room  pooja room  others  \\\n",
       "0   543.57695           0             0           0           0       0   \n",
       "1         NaN           0             0           0           0       0   \n",
       "2  1950.00000           0             1           0           0       0   \n",
       "3  1302.01000           1             0           0           0       0   \n",
       "4         NaN           1             1           0           0       0   \n",
       "\n",
       "   furnishing_type  luxury_score  \n",
       "0                0            37  \n",
       "1                0            38  \n",
       "2                0           150  \n",
       "3                2            75  \n",
       "4                2           102  \n",
       "\n",
       "[5 rows x 23 columns]"
      ]
     },
     "execution_count": 8,
     "metadata": {},
     "output_type": "execute_result"
    }
   ],
   "source": [
    "df.head()"
   ]
  },
  {
   "cell_type": "markdown",
   "metadata": {
    "id": "lErjoWAWhVqx"
   },
   "source": [
    "# **Property_type**"
   ]
  },
  {
   "cell_type": "code",
   "execution_count": 9,
   "metadata": {
    "colab": {
     "base_uri": "https://localhost:8080/"
    },
    "id": "cEpo8wHVieL8",
    "outputId": "fdd4718a-e139-4e17-a30a-bab6e3c61786"
   },
   "outputs": [
    {
     "data": {
      "text/plain": [
       "0"
      ]
     },
     "execution_count": 9,
     "metadata": {},
     "output_type": "execute_result"
    }
   ],
   "source": [
    "df['property_type'].isnull().sum()"
   ]
  },
  {
   "cell_type": "code",
   "execution_count": 10,
   "metadata": {
    "colab": {
     "base_uri": "https://localhost:8080/",
     "height": 474
    },
    "id": "ntr2BwoQhO-v",
    "outputId": "c7e77fb3-66bf-460e-c4ed-0367fb8ae78c"
   },
   "outputs": [
    {
     "data": {
      "text/plain": [
       "<Axes: >"
      ]
     },
     "execution_count": 10,
     "metadata": {},
     "output_type": "execute_result"
    },
    {
     "data": {
      "image/png": "[encoded data removed]",
      "text/plain": [
       "<Figure size 640x480 with 1 Axes>"
      ]
     },
     "metadata": {},
     "output_type": "display_data"
    }
   ],
   "source": [
    "df['property_type'].value_counts().plot(kind='bar')"
   ]
  },
  {
   "cell_type": "markdown",
   "metadata": {
    "id": "mRapfq8-hmGN"
   },
   "source": [
    "## **Observations**\n",
    "* Flats are in majority(75%) and there are less number than of houses(~25%)\n",
    "* No missing values"
   ]
  },
  {
   "cell_type": "markdown",
   "metadata": {
    "id": "shSQC-yzitqv"
   },
   "source": [
    "# **Society**"
   ]
  },
  {
   "cell_type": "code",
   "execution_count": 11,
   "metadata": {
    "colab": {
     "base_uri": "https://localhost:8080/"
    },
    "id": "QWLr9bPohiMh",
    "outputId": "b550211d-18c1-4c38-eb96-e9a16741fd04"
   },
   "outputs": [
    {
     "data": {
      "text/plain": [
       "(676,)"
      ]
     },
     "execution_count": 11,
     "metadata": {},
     "output_type": "execute_result"
    }
   ],
   "source": [
    "df['society'].value_counts().shape"
   ]
  },
  {
   "cell_type": "code",
   "execution_count": 12,
   "metadata": {
    "colab": {
     "base_uri": "https://localhost:8080/"
    },
    "id": "HpRVy_rRi8k3",
    "outputId": "e6fa0a39-1365-46d2-86a5-dc0b67b16b08"
   },
   "outputs": [
    {
     "data": {
      "text/plain": [
       "independent                                     486\n",
       "tulip violet                                     75\n",
       "ss the leaf                                      73\n",
       "shapoorji pallonji joyville gurugram             42\n",
       "dlf new town heights                             42\n",
       "                                               ... \n",
       "central park resort belgravia residences          1\n",
       "landmark house                                    1\n",
       "the khushboo cooperative housing society ltd      1\n",
       "on request                                        1\n",
       "baani city center                                 1\n",
       "Name: society, Length: 676, dtype: int64"
      ]
     },
     "execution_count": 12,
     "metadata": {},
     "output_type": "execute_result"
    }
   ],
   "source": [
    "df['society'].value_counts()"
   ]
  },
  {
   "cell_type": "code",
   "execution_count": 13,
   "metadata": {
    "colab": {
     "base_uri": "https://localhost:8080/"
    },
    "id": "HFTHHS81jDtP",
    "outputId": "7e0a363f-1837-4e42-9257-8b2c0cc25fbf"
   },
   "outputs": [
    {
     "data": {
      "text/plain": [
       "tulip violet                            0.023511\n",
       "ss the leaf                             0.046395\n",
       "shapoorji pallonji joyville gurugram    0.059561\n",
       "dlf new town heights                    0.072727\n",
       "signature global park                   0.083699\n",
       "Name: society, dtype: float64"
      ]
     },
     "execution_count": 13,
     "metadata": {},
     "output_type": "execute_result"
    }
   ],
   "source": [
    "df[df['society']!= 'independent']['society'].value_counts(normalize=True).cumsum().head()"
   ]
  },
  {
   "cell_type": "code",
   "execution_count": 14,
   "metadata": {
    "colab": {
     "base_uri": "https://localhost:8080/"
    },
    "id": "nYlRzOa-j1Hm",
    "outputId": "2b2bce78-c495-4b2f-f9de-2c8d16152536"
   },
   "outputs": [
    {
     "data": {
      "text/plain": [
       "{'Very High (>100)': 1,\n",
       " 'High (50-100)': 2,\n",
       " 'Average (10-49)': 92,\n",
       " 'Low (2-9)': 273,\n",
       " 'Very Low (1)': 308}"
      ]
     },
     "execution_count": 14,
     "metadata": {},
     "output_type": "execute_result"
    }
   ],
   "source": [
    "society_counts = df['society'].value_counts()\n",
    "\n",
    "# Frequency distribution for societies\n",
    "frequency_bins = {\n",
    "    \"Very High (>100)\": (society_counts > 100).sum(),\n",
    "    \"High (50-100)\": ((society_counts >= 50) & (society_counts <= 100)).sum(),\n",
    "    \"Average (10-49)\": ((society_counts >= 10) & (society_counts < 50)).sum(),\n",
    "    \"Low (2-9)\": ((society_counts > 1) & (society_counts < 10)).sum(),\n",
    "    \"Very Low (1)\": (society_counts == 1).sum()\n",
    "}\n",
    "frequency_bins\n",
    "\n"
   ]
  },
  {
   "cell_type": "code",
   "execution_count": 15,
   "metadata": {
    "colab": {
     "base_uri": "https://localhost:8080/",
     "height": 678
    },
    "id": "W7pMwVwymk7N",
    "outputId": "33820ce0-5e81-4221-f886-4f4d7cda269b"
   },
   "outputs": [
    {
     "data": {
      "text/plain": [
       "<Axes: >"
      ]
     },
     "execution_count": 15,
     "metadata": {},
     "output_type": "execute_result"
    },
    {
     "data": {
      "image/png": "[encoded data removed]",
      "text/plain": [
       "<Figure size 640x480 with 1 Axes>"
      ]
     },
     "metadata": {},
     "output_type": "display_data"
    }
   ],
   "source": [
    "# top 10 socities\n",
    "df[df['society'] != 'independent']['society'].value_counts().head(10).plot(kind='bar')"
   ]
  },
  {
   "cell_type": "code",
   "execution_count": 16,
   "metadata": {
    "colab": {
     "base_uri": "https://localhost:8080/"
    },
    "id": "ZjlZ5M-zm_E8",
    "outputId": "ee0924a6-a12a-487e-b1ee-5f565e8608e9"
   },
   "outputs": [
    {
     "data": {
      "text/plain": [
       "1"
      ]
     },
     "execution_count": 16,
     "metadata": {},
     "output_type": "execute_result"
    }
   ],
   "source": [
    "df['society'].isnull().sum()"
   ]
  },
  {
   "cell_type": "code",
   "execution_count": 17,
   "metadata": {
    "colab": {
     "base_uri": "https://localhost:8080/",
     "height": 182
    },
    "id": "j5V1ssXur4vM",
    "outputId": "74ee8375-cb6c-40ed-f15c-f86cb22f1790"
   },
   "outputs": [
    {
     "data": {
      "text/html": [
       "\n",
       "  <div id=\"df-801b6841-f5c7-4dd3-acb6-bb078673586f\" class=\"colab-df-container\">\n",
       "    <div>\n",
       "<style scoped>\n",
       "    .dataframe tbody tr th:only-of-type {\n",
       "        vertical-align: middle;\n",
       "    }\n",
       "\n",
       "    .dataframe tbody tr th {\n",
       "        vertical-align: top;\n",
       "    }\n",
       "\n",
       "    .dataframe thead th {\n",
       "        text-align: right;\n",
       "    }\n",
       "</style>\n",
       "<table border=\"1\" class=\"dataframe\">\n",
       "  <thead>\n",
       "    <tr style=\"text-align: right;\">\n",
       "      <th></th>\n",
       "      <th>property_type</th>\n",
       "      <th>society</th>\n",
       "      <th>sector</th>\n",
       "      <th>price</th>\n",
       "      <th>price_per_sqft</th>\n",
       "      <th>area</th>\n",
       "      <th>areaWithType</th>\n",
       "      <th>bedRoom</th>\n",
       "      <th>bathroom</th>\n",
       "      <th>balcony</th>\n",
       "      <th>...</th>\n",
       "      <th>super_built_up_area</th>\n",
       "      <th>built_up_area</th>\n",
       "      <th>carpet_area</th>\n",
       "      <th>study room</th>\n",
       "      <th>servant room</th>\n",
       "      <th>store room</th>\n",
       "      <th>pooja room</th>\n",
       "      <th>others</th>\n",
       "      <th>furnishing_type</th>\n",
       "      <th>luxury_score</th>\n",
       "    </tr>\n",
       "  </thead>\n",
       "  <tbody>\n",
       "    <tr>\n",
       "      <th>919</th>\n",
       "      <td>flat</td>\n",
       "      <td>NaN</td>\n",
       "      <td>sector 78</td>\n",
       "      <td>0.6</td>\n",
       "      <td>3692.0</td>\n",
       "      <td>1625.0</td>\n",
       "      <td>Built Up area: 1625 (150.97 sq.m.)</td>\n",
       "      <td>2</td>\n",
       "      <td>2</td>\n",
       "      <td>0</td>\n",
       "      <td>...</td>\n",
       "      <td>NaN</td>\n",
       "      <td>1625.0</td>\n",
       "      <td>NaN</td>\n",
       "      <td>0</td>\n",
       "      <td>0</td>\n",
       "      <td>0</td>\n",
       "      <td>0</td>\n",
       "      <td>0</td>\n",
       "      <td>0</td>\n",
       "      <td>0</td>\n",
       "    </tr>\n",
       "  </tbody>\n",
       "</table>\n",
       "<p>1 rows × 23 columns</p>\n",
       "</div>\n",
       "    <div class=\"colab-df-buttons\">\n",
       "\n",
       "  <div class=\"colab-df-container\">\n",
       "    <button class=\"colab-df-convert\" onclick=\"convertToInteractive('df-801b6841-f5c7-4dd3-acb6-bb078673586f')\"\n",
       "            title=\"Convert this dataframe to an interactive table.\"\n",
       "            style=\"display:none;\">\n",
       "\n",
       "  <svg xmlns=\"http://www.w3.org/2000/svg\" height=\"24px\" viewBox=\"0 -960 960 960\">\n",
       "    <path d=\"M120-120v-720h720v720H120Zm60-500h600v-160H180v160Zm220 220h160v-160H400v160Zm0 220h160v-160H400v160ZM180-400h160v-160H180v160Zm440 0h160v-160H620v160ZM180-180h160v-160H180v160Zm440 0h160v-160H620v160Z\"/>\n",
       "  </svg>\n",
       "    </button>\n",
       "\n",
       "  <style>\n",
       "    .colab-df-container {\n",
       "      display:flex;\n",
       "      gap: 12px;\n",
       "    }\n",
       "\n",
       "    .colab-df-convert {\n",
       "      background-color: #E8F0FE;\n",
       "      border: none;\n",
       "      border-radius: 50%;\n",
       "      cursor: pointer;\n",
       "      display: none;\n",
       "      fill: #1967D2;\n",
       "      height: 32px;\n",
       "      padding: 0 0 0 0;\n",
       "      width: 32px;\n",
       "    }\n",
       "\n",
       "    .colab-df-convert:hover {\n",
       "      background-color: #E2EBFA;\n",
       "      box-shadow: 0px 1px 2px rgba(60, 64, 67, 0.3), 0px 1px 3px 1px rgba(60, 64, 67, 0.15);\n",
       "      fill: #174EA6;\n",
       "    }\n",
       "\n",
       "    .colab-df-buttons div {\n",
       "      margin-bottom: 4px;\n",
       "    }\n",
       "\n",
       "    [theme=dark] .colab-df-convert {\n",
       "      background-color: #3B4455;\n",
       "      fill: #D2E3FC;\n",
       "    }\n",
       "\n",
       "    [theme=dark] .colab-df-convert:hover {\n",
       "      background-color: #434B5C;\n",
       "      box-shadow: 0px 1px 3px 1px rgba(0, 0, 0, 0.15);\n",
       "      filter: drop-shadow(0px 1px 2px rgba(0, 0, 0, 0.3));\n",
       "      fill: #FFFFFF;\n",
       "    }\n",
       "  </style>\n",
       "\n",
       "    <script>\n",
       "      const buttonEl =\n",
       "        document.querySelector('#df-801b6841-f5c7-4dd3-acb6-bb078673586f button.colab-df-convert');\n",
       "      buttonEl.style.display =\n",
       "        google.colab.kernel.accessAllowed ? 'block' : 'none';\n",
       "\n",
       "      async function convertToInteractive(key) {\n",
       "        const element = document.querySelector('#df-801b6841-f5c7-4dd3-acb6-bb078673586f');\n",
       "        const dataTable =\n",
       "          await google.colab.kernel.invokeFunction('convertToInteractive',\n",
       "                                                    [key], {});\n",
       "        if (!dataTable) return;\n",
       "\n",
       "        const docLinkHtml = 'Like what you see? Visit the ' +\n",
       "          '<a target=\"_blank\" href=https://colab.research.google.com/notebooks/data_table.ipynb>data table notebook</a>'\n",
       "          + ' to learn more about interactive tables.';\n",
       "        element.innerHTML = '';\n",
       "        dataTable['output_type'] = 'display_data';\n",
       "        await google.colab.output.renderOutput(dataTable, element);\n",
       "        const docLink = document.createElement('div');\n",
       "        docLink.innerHTML = docLinkHtml;\n",
       "        element.appendChild(docLink);\n",
       "      }\n",
       "    </script>\n",
       "  </div>\n",
       "\n",
       "    </div>\n",
       "  </div>\n"
      ],
      "text/plain": [
       "    property_type society     sector  price  price_per_sqft    area  \\\n",
       "919          flat     NaN  sector 78    0.6          3692.0  1625.0   \n",
       "\n",
       "                           areaWithType  bedRoom  bathroom balcony  ...  \\\n",
       "919  Built Up area: 1625 (150.97 sq.m.)        2         2       0  ...   \n",
       "\n",
       "     super_built_up_area built_up_area carpet_area  study room  servant room  \\\n",
       "919                  NaN        1625.0         NaN           0             0   \n",
       "\n",
       "     store room  pooja room  others  furnishing_type  luxury_score  \n",
       "919           0           0       0                0             0  \n",
       "\n",
       "[1 rows x 23 columns]"
      ]
     },
     "execution_count": 17,
     "metadata": {},
     "output_type": "execute_result"
    }
   ],
   "source": [
    "df[df['society'].isnull()]"
   ]
  },
  {
   "cell_type": "markdown",
   "metadata": {
    "id": "psNiq0btsNVO"
   },
   "source": [
    "#  **Observations:**\n",
    "* There are 676 socities in Dataset\n",
    "*The top 75 societies have 50 percent of the preperties and the rest 50 percent of the properties come under the remaining 600 societies\n",
    "** Very High (>100): Only 1 society has more than 100 listings.\n",
    "** High (50-100): 2 societies have between 50 to 100 listings.\n",
    "** Average (10-49): 92 societies fall in this range with 10 to 49 listings each.\n",
    "** Low (2-9): 273 societies have between 2 to 9 listings.\n",
    "** Very Low (1): A significant number, 308 societies, have only 1 listing.\n",
    "* 1 missing value"
   ]
  },
  {
   "cell_type": "markdown",
   "metadata": {
    "id": "626K3XkD56Dr"
   },
   "source": [
    "# **sector**"
   ]
  },
  {
   "cell_type": "code",
   "execution_count": 18,
   "metadata": {
    "colab": {
     "base_uri": "https://localhost:8080/"
    },
    "id": "EGCf2_fssJp0",
    "outputId": "0c343641-fd5e-4ccd-da7d-812350040159"
   },
   "outputs": [
    {
     "data": {
      "text/plain": [
       "(113,)"
      ]
     },
     "execution_count": 18,
     "metadata": {},
     "output_type": "execute_result"
    }
   ],
   "source": [
    "# unique sectors\n",
    "df['sector'].value_counts().shape"
   ]
  },
  {
   "cell_type": "code",
   "execution_count": 19,
   "metadata": {
    "colab": {
     "base_uri": "https://localhost:8080/",
     "height": 512
    },
    "id": "2FmtY6uk6IVp",
    "outputId": "ba581b27-d52a-4009-b158-698656e86a7f"
   },
   "outputs": [
    {
     "data": {
      "text/plain": [
       "<Axes: >"
      ]
     },
     "execution_count": 19,
     "metadata": {},
     "output_type": "execute_result"
    },
    {
     "data": {
      "image/png": "[encoded data removed]",
      "text/plain": [
       "<Figure size 640x480 with 1 Axes>"
      ]
     },
     "metadata": {},
     "output_type": "display_data"
    }
   ],
   "source": [
    "# top 10 sectors\n",
    "df['sector'].value_counts().head(10).plot(kind='bar')"
   ]
  },
  {
   "cell_type": "code",
   "execution_count": 20,
   "metadata": {
    "colab": {
     "base_uri": "https://localhost:8080/"
    },
    "id": "kCeIWM3D92mu",
    "outputId": "eaac93d2-4159-4225-c38e-80de1821c097"
   },
   "outputs": [
    {
     "data": {
      "text/plain": [
       "{'Very High (>100)': 3,\n",
       " 'High (50-100)': 25,\n",
       " 'Average (10-49)': 63,\n",
       " 'Low (2-9)': 21,\n",
       " 'Very Low (1)': 1}"
      ]
     },
     "execution_count": 20,
     "metadata": {},
     "output_type": "execute_result"
    }
   ],
   "source": [
    "# Frequency distribution for sectors\n",
    "sector_counts = df['sector'].value_counts()\n",
    "\n",
    "sector_frequency_bins = {\n",
    "    \"Very High (>100)\": (sector_counts > 100).sum(),\n",
    "    \"High (50-100)\": ((sector_counts >= 50) & (sector_counts <= 100)).sum(),\n",
    "    \"Average (10-49)\": ((sector_counts >= 10) & (sector_counts < 50)).sum(),\n",
    "    \"Low (2-9)\": ((sector_counts > 1) & (sector_counts < 10)).sum(),\n",
    "    \"Very Low (1)\": (sector_counts == 1).sum()\n",
    "}\n",
    "\n",
    "sector_frequency_bins"
   ]
  },
  {
   "cell_type": "markdown",
   "metadata": {
    "id": "lbz6s0IN99me"
   },
   "source": [
    "### **Observations**\n",
    "* There are a total of 104 unique sectors in the dataset.\n",
    "* Frequency distribution of sectors:\n",
    "** Very High (>100): 3 sectors have more than 100 listings.\n",
    "** High (50-100): 25 sectors have between 50 to 100 listings.\n",
    "** Average (10-49): A majority, 60 sectors, fall in this range with 10 to 49 listings each.\n",
    "** Low (2-9): 16 sectors have between 2 to 9 listings.\n",
    "** Very Low (1): Interestingly, there are no sectors with only 1 listing."
   ]
  },
  {
   "cell_type": "markdown",
   "metadata": {
    "id": "V83d-4x6-Nyt"
   },
   "source": [
    "## **Price**"
   ]
  },
  {
   "cell_type": "code",
   "execution_count": 21,
   "metadata": {
    "colab": {
     "base_uri": "https://localhost:8080/"
    },
    "id": "eN1vRBC2-Uou",
    "outputId": "73e23e46-a3a7-40eb-a463-649b626b08a7"
   },
   "outputs": [
    {
     "data": {
      "text/plain": [
       "count    3660.000000\n",
       "mean        2.533664\n",
       "std         2.980623\n",
       "min         0.070000\n",
       "25%         0.950000\n",
       "50%         1.520000\n",
       "75%         2.750000\n",
       "max        31.500000\n",
       "Name: price, dtype: float64"
      ]
     },
     "execution_count": 21,
     "metadata": {},
     "output_type": "execute_result"
    }
   ],
   "source": [
    "df['price'].describe()"
   ]
  },
  {
   "cell_type": "markdown",
   "metadata": {
    "id": "Bc3eV1DjAzSN"
   },
   "source": [
    "### **Descriptive Statistics**\n",
    "* Count: There are 3,660 non-missing price entries.\n",
    "* Mean Price: The average price is approximately 2.53 crores.\n",
    "* Median Price: The median (or 50th percentile) price is 1.52 crores.\n",
    "* Standard Deviation: The prices have a standard deviation of 2.98, indicating variability in the prices.\n",
    "* Range: Prices range from a minimum of 0.07 crores to a maximum of 31.5 crores.\n",
    "* IQR: The interquartile range (difference between 75th and 25th percentile) is from 0.95 crores to 2.75 crores."
   ]
  },
  {
   "cell_type": "code",
   "execution_count": 22,
   "metadata": {
    "colab": {
     "base_uri": "https://localhost:8080/",
     "height": 466
    },
    "id": "OcgVynEX-jod",
    "outputId": "a6e2230d-fcaa-4b63-d71e-f84270f80d7b"
   },
   "outputs": [
    {
     "data": {
      "text/plain": [
       "<Axes: xlabel='price', ylabel='Count'>"
      ]
     },
     "execution_count": 22,
     "metadata": {},
     "output_type": "execute_result"
    },
    {
     "data": {
      "image/png": "[encoded data removed]",
      "text/plain": [
       "<Figure size 640x480 with 1 Axes>"
      ]
     },
     "metadata": {},
     "output_type": "display_data"
    }
   ],
   "source": [
    "sns.histplot(df['price'], kde=True, bins=50)"
   ]
  },
  {
   "cell_type": "code",
   "execution_count": 23,
   "metadata": {
    "colab": {
     "base_uri": "https://localhost:8080/",
     "height": 449
    },
    "id": "653TscaB-lwU",
    "outputId": "644222e1-c8c9-4e30-f134-12d1b2a52d93"
   },
   "outputs": [
    {
     "data": {
      "image/png": "[encoded data removed]",
      "text/plain": [
       "<Figure size 640x480 with 1 Axes>"
      ]
     },
     "metadata": {},
     "output_type": "display_data"
    }
   ],
   "source": [
    "sns.boxplot(x=df['price'], color='lightpink')\n",
    "plt.grid()"
   ]
  },
  {
   "cell_type": "code",
   "execution_count": 24,
   "metadata": {
    "colab": {
     "base_uri": "https://localhost:8080/"
    },
    "id": "Z2YcFlU0-Mlt",
    "outputId": "60dfab49-ee29-4966-a1c7-ef27ccc82337"
   },
   "outputs": [
    {
     "data": {
      "text/plain": [
       "17"
      ]
     },
     "execution_count": 24,
     "metadata": {},
     "output_type": "execute_result"
    }
   ],
   "source": [
    "df['price'].isnull().sum()"
   ]
  },
  {
   "cell_type": "markdown",
   "metadata": {
    "id": "lNDPGvHHLXUf"
   },
   "source": [
    "### **Visualizations:**\n",
    "\n",
    "* Distribution: The histogram indicates that most properties are priced in the lower range (below 5 crores), with a few properties going beyond 10 crores.\n",
    "* Box Plot: The box plot showcases the spread of the data and potential outliers. Properties priced above approximately 10 crores might be considered outliers as they lie beyond the upper whisker of the box plot.\n",
    "\n",
    "Missing Values: There are 17 missing values in the price column."
   ]
  },
  {
   "cell_type": "code",
   "execution_count": 25,
   "metadata": {
    "colab": {
     "base_uri": "https://localhost:8080/"
    },
    "id": "DR-tDdqK_A0M",
    "outputId": "64043044-71f1-4203-fd9e-a91822ddd05e"
   },
   "outputs": [
    {
     "name": "stdout",
     "output_type": "stream",
     "text": [
      "3.27917047331346 14.933372629214247\n"
     ]
    }
   ],
   "source": [
    "# Skewness and Kurtosis\n",
    "skewness = df['price'].skew()\n",
    "kurtosis = df['price'].kurt()\n",
    "\n",
    "print(skewness,kurtosis)"
   ]
  },
  {
   "cell_type": "markdown",
   "metadata": {
    "id": "dBbMyfHvMhsl"
   },
   "source": [
    "* **Skewness:** The price distribution has a skewness of approximately 3.28, indicating a positive skew. This means that the distribution tail is skewed to the right, which aligns with our observation from the histogram where most properties have prices on the lower end with a few high-priced properties.\n",
    "* **Kurtosis:** The kurtosis value is approximately 14.93. A kurtosis value greater than 3 indicates a distribution with heavier tails and more outliers compared to a normal distribution.\n",
    "![Skewness-and-Kurtosis.png](data:image/png;base64,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)"
   ]
  },
  {
   "cell_type": "code",
   "execution_count": 26,
   "metadata": {
    "colab": {
     "base_uri": "https://localhost:8080/"
    },
    "id": "9BJwTpVAMK8e",
    "outputId": "72050f97-90f6-4b96-c7a1-3bd9840d9cb4"
   },
   "outputs": [
    {
     "data": {
      "text/plain": [
       "0.01     0.250\n",
       "0.05     0.370\n",
       "0.95     8.500\n",
       "0.99    15.264\n",
       "Name: price, dtype: float64"
      ]
     },
     "execution_count": 26,
     "metadata": {},
     "output_type": "execute_result"
    }
   ],
   "source": [
    "# Quantile Analysis\n",
    "quantiles = df['price'].quantile([0.01, 0.05, 0.95, 0.99])\n",
    "\n",
    "quantiles"
   ]
  },
  {
   "cell_type": "markdown",
   "metadata": {
    "id": "c2xvz5rPQwu1"
   },
   "source": [
    "### **Quantile Analysis:**\n",
    "\n",
    "* 1% Quantile: Only 1% of properties are priced below 0.25 crores.\n",
    "* 5% Quantile: 5% of properties are priced below 0.37 crores.\n",
    "* 95% Quantile: 95% of properties are priced below 8.5 crores.\n",
    "* 99% Quantile: 99% of properties are priced below 15.26 crores indicating that very few properties are priced above this value."
   ]
  },
  {
   "cell_type": "code",
   "execution_count": 27,
   "metadata": {
    "colab": {
     "base_uri": "https://localhost:8080/"
    },
    "id": "jnlcs-L6NgCN",
    "outputId": "9a8bd428-17b9-4791-f48e-e65569d80034"
   },
   "outputs": [
    {
     "data": {
      "text/plain": [
       "1.8"
      ]
     },
     "execution_count": 27,
     "metadata": {},
     "output_type": "execute_result"
    }
   ],
   "source": [
    "# Identidy Potential ouliers with IQR method\n",
    "Q1 = df['price'].describe()['25%']\n",
    "Q3 = df['price'].describe()['75%']\n",
    "\n",
    "IQR = Q3 - Q1\n",
    "\n",
    "IQR"
   ]
  },
  {
   "cell_type": "code",
   "execution_count": 28,
   "metadata": {
    "colab": {
     "base_uri": "https://localhost:8080/"
    },
    "id": "ZaDnjeydR8m5",
    "outputId": "bb587925-07ff-4600-d8b9-8ab8f72879d5"
   },
   "outputs": [
    {
     "name": "stdout",
     "output_type": "stream",
     "text": [
      "-1.7500000000000002 5.45\n"
     ]
    }
   ],
   "source": [
    "lower_bound = Q1 - 1.5 * IQR\n",
    "upper_bound = Q3 + 1.5 * IQR\n",
    "\n",
    "print(lower_bound, upper_bound)"
   ]
  },
  {
   "cell_type": "code",
   "execution_count": 29,
   "metadata": {
    "id": "oHGh093wSsoY"
   },
   "outputs": [],
   "source": [
    "outliers = df[(df['price'] < lower_bound) | (df['price'] > upper_bound)]"
   ]
  },
  {
   "cell_type": "code",
   "execution_count": 30,
   "metadata": {
    "colab": {
     "base_uri": "https://localhost:8080/"
    },
    "id": "aAzsKhQxTVTf",
    "outputId": "5aa6452c-eb83-4fde-be56-f152b871f115"
   },
   "outputs": [
    {
     "data": {
      "text/plain": [
       "(425, 23)"
      ]
     },
     "execution_count": 30,
     "metadata": {},
     "output_type": "execute_result"
    }
   ],
   "source": [
    "outliers.shape"
   ]
  },
  {
   "cell_type": "code",
   "execution_count": 31,
   "metadata": {
    "colab": {
     "base_uri": "https://localhost:8080/"
    },
    "id": "NOUETOWoTex_",
    "outputId": "8b5ce97d-97cd-4c14-80f7-d76cecc05738"
   },
   "outputs": [
    {
     "data": {
      "text/plain": [
       "count    425.000000\n",
       "mean       9.235624\n",
       "std        4.065259\n",
       "min        5.460000\n",
       "25%        6.460000\n",
       "50%        8.000000\n",
       "75%       10.750000\n",
       "max       31.500000\n",
       "Name: price, dtype: float64"
      ]
     },
     "execution_count": 31,
     "metadata": {},
     "output_type": "execute_result"
    }
   ],
   "source": [
    "outliers['price'].describe()"
   ]
  },
  {
   "cell_type": "markdown",
   "metadata": {
    "id": "UTyD3nc1UBGb"
   },
   "source": [
    "### **Outliers Analysis (using IQR method):**\n",
    "\n",
    "* Based on the IQR method, there are 425 properties considered as outliers.\n",
    "* These outliers have an average price of approximately 9.24 crores.\n",
    "* The range for these outliers is from 5.46 crores to 31.5 crores."
   ]
  },
  {
   "cell_type": "code",
   "execution_count": 32,
   "metadata": {
    "colab": {
     "base_uri": "https://localhost:8080/",
     "height": 473
    },
    "id": "4QJegp5oTj83",
    "outputId": "23ea6bbe-6c2f-49f4-b46a-d0a82b7d77d7"
   },
   "outputs": [
    {
     "data": {
      "text/plain": [
       "<Axes: >"
      ]
     },
     "execution_count": 32,
     "metadata": {},
     "output_type": "execute_result"
    },
    {
     "data": {
      "image/png": "[encoded data removed]",
      "text/plain": [
       "<Figure size 640x480 with 1 Axes>"
      ]
     },
     "metadata": {},
     "output_type": "display_data"
    }
   ],
   "source": [
    "# Price Binning\n",
    "bins = [0, 1, 2, 3, 5, 10, 20, 50]\n",
    "bin_labels = ['0-1', '1-2', '2-3', '3-5', '5-10', '10-20', '20-50']\n",
    "\n",
    "pd.cut(df['price'],bins=bins, labels=bin_labels, right=False).value_counts().sort_index().plot(kind='bar')"
   ]
  },
  {
   "cell_type": "markdown",
   "metadata": {
    "id": "pQDsoo4tYgZ6"
   },
   "source": [
    "* The majority of properties are priced in the \"1-2 crores\" and \"2-3 crores\" ranges.\n",
    "* There's a significant drop in the number of properties priced above \"5 crores.\""
   ]
  },
  {
   "cell_type": "code",
   "execution_count": 33,
   "metadata": {
    "colab": {
     "base_uri": "https://localhost:8080/",
     "height": 550
    },
    "id": "ErB6BkyNa94m",
    "outputId": "8cfc6d75-d748-4826-d632-0c60d8e11190"
   },
   "outputs": [
    {
     "data": {
      "text/html": [
       "\n",
       "  <div id=\"df-afba3e5f-b8b0-4a38-bcf6-afafcdf491f4\" class=\"colab-df-container\">\n",
       "    <div>\n",
       "<style scoped>\n",
       "    .dataframe tbody tr th:only-of-type {\n",
       "        vertical-align: middle;\n",
       "    }\n",
       "\n",
       "    .dataframe tbody tr th {\n",
       "        vertical-align: top;\n",
       "    }\n",
       "\n",
       "    .dataframe thead th {\n",
       "        text-align: right;\n",
       "    }\n",
       "</style>\n",
       "<table border=\"1\" class=\"dataframe\">\n",
       "  <thead>\n",
       "    <tr style=\"text-align: right;\">\n",
       "      <th></th>\n",
       "      <th>property_type</th>\n",
       "      <th>society</th>\n",
       "      <th>sector</th>\n",
       "      <th>price</th>\n",
       "      <th>price_per_sqft</th>\n",
       "      <th>area</th>\n",
       "      <th>areaWithType</th>\n",
       "      <th>bedRoom</th>\n",
       "      <th>bathroom</th>\n",
       "      <th>balcony</th>\n",
       "      <th>...</th>\n",
       "      <th>super_built_up_area</th>\n",
       "      <th>built_up_area</th>\n",
       "      <th>carpet_area</th>\n",
       "      <th>study room</th>\n",
       "      <th>servant room</th>\n",
       "      <th>store room</th>\n",
       "      <th>pooja room</th>\n",
       "      <th>others</th>\n",
       "      <th>furnishing_type</th>\n",
       "      <th>luxury_score</th>\n",
       "    </tr>\n",
       "  </thead>\n",
       "  <tbody>\n",
       "    <tr>\n",
       "      <th>0</th>\n",
       "      <td>flat</td>\n",
       "      <td>signature global orchard avenue</td>\n",
       "      <td>sector 93</td>\n",
       "      <td>0.40</td>\n",
       "      <td>7359.0</td>\n",
       "      <td>544.0</td>\n",
       "      <td>Carpet area: 543.53 (50.5 sq.m.)</td>\n",
       "      <td>2</td>\n",
       "      <td>2</td>\n",
       "      <td>2</td>\n",
       "      <td>...</td>\n",
       "      <td>NaN</td>\n",
       "      <td>NaN</td>\n",
       "      <td>543.57695</td>\n",
       "      <td>0</td>\n",
       "      <td>0</td>\n",
       "      <td>0</td>\n",
       "      <td>0</td>\n",
       "      <td>0</td>\n",
       "      <td>0</td>\n",
       "      <td>37</td>\n",
       "    </tr>\n",
       "    <tr>\n",
       "      <th>1</th>\n",
       "      <td>flat</td>\n",
       "      <td>zara aavaas</td>\n",
       "      <td>sector 104</td>\n",
       "      <td>0.40</td>\n",
       "      <td>7029.0</td>\n",
       "      <td>569.0</td>\n",
       "      <td>Super Built up area 569(52.86 sq.m.)</td>\n",
       "      <td>2</td>\n",
       "      <td>2</td>\n",
       "      <td>1</td>\n",
       "      <td>...</td>\n",
       "      <td>569.0</td>\n",
       "      <td>NaN</td>\n",
       "      <td>NaN</td>\n",
       "      <td>0</td>\n",
       "      <td>0</td>\n",
       "      <td>0</td>\n",
       "      <td>0</td>\n",
       "      <td>0</td>\n",
       "      <td>0</td>\n",
       "      <td>38</td>\n",
       "    </tr>\n",
       "    <tr>\n",
       "      <th>2</th>\n",
       "      <td>flat</td>\n",
       "      <td>ats triumph</td>\n",
       "      <td>sector 104</td>\n",
       "      <td>2.55</td>\n",
       "      <td>13076.0</td>\n",
       "      <td>1950.0</td>\n",
       "      <td>Super Built up area 3150(292.64 sq.m.)Carpet a...</td>\n",
       "      <td>4</td>\n",
       "      <td>4</td>\n",
       "      <td>3+</td>\n",
       "      <td>...</td>\n",
       "      <td>3150.0</td>\n",
       "      <td>NaN</td>\n",
       "      <td>1950.00000</td>\n",
       "      <td>0</td>\n",
       "      <td>1</td>\n",
       "      <td>0</td>\n",
       "      <td>0</td>\n",
       "      <td>0</td>\n",
       "      <td>0</td>\n",
       "      <td>150</td>\n",
       "    </tr>\n",
       "    <tr>\n",
       "      <th>3</th>\n",
       "      <td>flat</td>\n",
       "      <td>experion the heartsong</td>\n",
       "      <td>sector 108</td>\n",
       "      <td>1.65</td>\n",
       "      <td>8237.0</td>\n",
       "      <td>2003.0</td>\n",
       "      <td>Super Built up area 2003(186.08 sq.m.)Built Up...</td>\n",
       "      <td>3</td>\n",
       "      <td>4</td>\n",
       "      <td>3</td>\n",
       "      <td>...</td>\n",
       "      <td>2003.0</td>\n",
       "      <td>1771.32</td>\n",
       "      <td>1302.01000</td>\n",
       "      <td>1</td>\n",
       "      <td>0</td>\n",
       "      <td>0</td>\n",
       "      <td>0</td>\n",
       "      <td>0</td>\n",
       "      <td>2</td>\n",
       "      <td>75</td>\n",
       "    </tr>\n",
       "    <tr>\n",
       "      <th>4</th>\n",
       "      <td>house</td>\n",
       "      <td>unitech deerwood chase</td>\n",
       "      <td>sector 50</td>\n",
       "      <td>8.45</td>\n",
       "      <td>235376.0</td>\n",
       "      <td>359.0</td>\n",
       "      <td>Plot area 359(33.35 sq.m.)</td>\n",
       "      <td>3</td>\n",
       "      <td>3</td>\n",
       "      <td>2</td>\n",
       "      <td>...</td>\n",
       "      <td>NaN</td>\n",
       "      <td>359.00</td>\n",
       "      <td>NaN</td>\n",
       "      <td>1</td>\n",
       "      <td>1</td>\n",
       "      <td>0</td>\n",
       "      <td>0</td>\n",
       "      <td>0</td>\n",
       "      <td>2</td>\n",
       "      <td>102</td>\n",
       "    </tr>\n",
       "  </tbody>\n",
       "</table>\n",
       "<p>5 rows × 23 columns</p>\n",
       "</div>\n",
       "    <div class=\"colab-df-buttons\">\n",
       "\n",
       "  <div class=\"colab-df-container\">\n",
       "    <button class=\"colab-df-convert\" onclick=\"convertToInteractive('df-afba3e5f-b8b0-4a38-bcf6-afafcdf491f4')\"\n",
       "            title=\"Convert this dataframe to an interactive table.\"\n",
       "            style=\"display:none;\">\n",
       "\n",
       "  <svg xmlns=\"http://www.w3.org/2000/svg\" height=\"24px\" viewBox=\"0 -960 960 960\">\n",
       "    <path d=\"M120-120v-720h720v720H120Zm60-500h600v-160H180v160Zm220 220h160v-160H400v160Zm0 220h160v-160H400v160ZM180-400h160v-160H180v160Zm440 0h160v-160H620v160ZM180-180h160v-160H180v160Zm440 0h160v-160H620v160Z\"/>\n",
       "  </svg>\n",
       "    </button>\n",
       "\n",
       "  <style>\n",
       "    .colab-df-container {\n",
       "      display:flex;\n",
       "      gap: 12px;\n",
       "    }\n",
       "\n",
       "    .colab-df-convert {\n",
       "      background-color: #E8F0FE;\n",
       "      border: none;\n",
       "      border-radius: 50%;\n",
       "      cursor: pointer;\n",
       "      display: none;\n",
       "      fill: #1967D2;\n",
       "      height: 32px;\n",
       "      padding: 0 0 0 0;\n",
       "      width: 32px;\n",
       "    }\n",
       "\n",
       "    .colab-df-convert:hover {\n",
       "      background-color: #E2EBFA;\n",
       "      box-shadow: 0px 1px 2px rgba(60, 64, 67, 0.3), 0px 1px 3px 1px rgba(60, 64, 67, 0.15);\n",
       "      fill: #174EA6;\n",
       "    }\n",
       "\n",
       "    .colab-df-buttons div {\n",
       "      margin-bottom: 4px;\n",
       "    }\n",
       "\n",
       "    [theme=dark] .colab-df-convert {\n",
       "      background-color: #3B4455;\n",
       "      fill: #D2E3FC;\n",
       "    }\n",
       "\n",
       "    [theme=dark] .colab-df-convert:hover {\n",
       "      background-color: #434B5C;\n",
       "      box-shadow: 0px 1px 3px 1px rgba(0, 0, 0, 0.15);\n",
       "      filter: drop-shadow(0px 1px 2px rgba(0, 0, 0, 0.3));\n",
       "      fill: #FFFFFF;\n",
       "    }\n",
       "  </style>\n",
       "\n",
       "    <script>\n",
       "      const buttonEl =\n",
       "        document.querySelector('#df-afba3e5f-b8b0-4a38-bcf6-afafcdf491f4 button.colab-df-convert');\n",
       "      buttonEl.style.display =\n",
       "        google.colab.kernel.accessAllowed ? 'block' : 'none';\n",
       "\n",
       "      async function convertToInteractive(key) {\n",
       "        const element = document.querySelector('#df-afba3e5f-b8b0-4a38-bcf6-afafcdf491f4');\n",
       "        const dataTable =\n",
       "          await google.colab.kernel.invokeFunction('convertToInteractive',\n",
       "                                                    [key], {});\n",
       "        if (!dataTable) return;\n",
       "\n",
       "        const docLinkHtml = 'Like what you see? Visit the ' +\n",
       "          '<a target=\"_blank\" href=https://colab.research.google.com/notebooks/data_table.ipynb>data table notebook</a>'\n",
       "          + ' to learn more about interactive tables.';\n",
       "        element.innerHTML = '';\n",
       "        dataTable['output_type'] = 'display_data';\n",
       "        await google.colab.output.renderOutput(dataTable, element);\n",
       "        const docLink = document.createElement('div');\n",
       "        docLink.innerHTML = docLinkHtml;\n",
       "        element.appendChild(docLink);\n",
       "      }\n",
       "    </script>\n",
       "  </div>\n",
       "\n",
       "\n",
       "<div id=\"df-ebc27fc7-5588-4d8c-84b2-cb9ba86111fe\">\n",
       "  <button class=\"colab-df-quickchart\" onclick=\"quickchart('df-ebc27fc7-5588-4d8c-84b2-cb9ba86111fe')\"\n",
       "            title=\"Suggest charts.\"\n",
       "            style=\"display:none;\">\n",
       "\n",
       "<svg xmlns=\"http://www.w3.org/2000/svg\" height=\"24px\"viewBox=\"0 0 24 24\"\n",
       "     width=\"24px\">\n",
       "    <g>\n",
       "        <path d=\"M19 3H5c-1.1 0-2 .9-2 2v14c0 1.1.9 2 2 2h14c1.1 0 2-.9 2-2V5c0-1.1-.9-2-2-2zM9 17H7v-7h2v7zm4 0h-2V7h2v10zm4 0h-2v-4h2v4z\"/>\n",
       "    </g>\n",
       "</svg>\n",
       "  </button>\n",
       "\n",
       "<style>\n",
       "  .colab-df-quickchart {\n",
       "      --bg-color: #E8F0FE;\n",
       "      --fill-color: #1967D2;\n",
       "      --hover-bg-color: #E2EBFA;\n",
       "      --hover-fill-color: #174EA6;\n",
       "      --disabled-fill-color: #AAA;\n",
       "      --disabled-bg-color: #DDD;\n",
       "  }\n",
       "\n",
       "  [theme=dark] .colab-df-quickchart {\n",
       "      --bg-color: #3B4455;\n",
       "      --fill-color: #D2E3FC;\n",
       "      --hover-bg-color: #434B5C;\n",
       "      --hover-fill-color: #FFFFFF;\n",
       "      --disabled-bg-color: #3B4455;\n",
       "      --disabled-fill-color: #666;\n",
       "  }\n",
       "\n",
       "  .colab-df-quickchart {\n",
       "    background-color: var(--bg-color);\n",
       "    border: none;\n",
       "    border-radius: 50%;\n",
       "    cursor: pointer;\n",
       "    display: none;\n",
       "    fill: var(--fill-color);\n",
       "    height: 32px;\n",
       "    padding: 0;\n",
       "    width: 32px;\n",
       "  }\n",
       "\n",
       "  .colab-df-quickchart:hover {\n",
       "    background-color: var(--hover-bg-color);\n",
       "    box-shadow: 0 1px 2px rgba(60, 64, 67, 0.3), 0 1px 3px 1px rgba(60, 64, 67, 0.15);\n",
       "    fill: var(--button-hover-fill-color);\n",
       "  }\n",
       "\n",
       "  .colab-df-quickchart-complete:disabled,\n",
       "  .colab-df-quickchart-complete:disabled:hover {\n",
       "    background-color: var(--disabled-bg-color);\n",
       "    fill: var(--disabled-fill-color);\n",
       "    box-shadow: none;\n",
       "  }\n",
       "\n",
       "  .colab-df-spinner {\n",
       "    border: 2px solid var(--fill-color);\n",
       "    border-color: transparent;\n",
       "    border-bottom-color: var(--fill-color);\n",
       "    animation:\n",
       "      spin 1s steps(1) infinite;\n",
       "  }\n",
       "\n",
       "  @keyframes spin {\n",
       "    0% {\n",
       "      border-color: transparent;\n",
       "      border-bottom-color: var(--fill-color);\n",
       "      border-left-color: var(--fill-color);\n",
       "    }\n",
       "    20% {\n",
       "      border-color: transparent;\n",
       "      border-left-color: var(--fill-color);\n",
       "      border-top-color: var(--fill-color);\n",
       "    }\n",
       "    30% {\n",
       "      border-color: transparent;\n",
       "      border-left-color: var(--fill-color);\n",
       "      border-top-color: var(--fill-color);\n",
       "      border-right-color: var(--fill-color);\n",
       "    }\n",
       "    40% {\n",
       "      border-color: transparent;\n",
       "      border-right-color: var(--fill-color);\n",
       "      border-top-color: var(--fill-color);\n",
       "    }\n",
       "    60% {\n",
       "      border-color: transparent;\n",
       "      border-right-color: var(--fill-color);\n",
       "    }\n",
       "    80% {\n",
       "      border-color: transparent;\n",
       "      border-right-color: var(--fill-color);\n",
       "      border-bottom-color: var(--fill-color);\n",
       "    }\n",
       "    90% {\n",
       "      border-color: transparent;\n",
       "      border-bottom-color: var(--fill-color);\n",
       "    }\n",
       "  }\n",
       "</style>\n",
       "\n",
       "  <script>\n",
       "    async function quickchart(key) {\n",
       "      const quickchartButtonEl =\n",
       "        document.querySelector('#' + key + ' button');\n",
       "      quickchartButtonEl.disabled = true;  // To prevent multiple clicks.\n",
       "      quickchartButtonEl.classList.add('colab-df-spinner');\n",
       "      try {\n",
       "        const charts = await google.colab.kernel.invokeFunction(\n",
       "            'suggestCharts', [key], {});\n",
       "      } catch (error) {\n",
       "        console.error('Error during call to suggestCharts:', error);\n",
       "      }\n",
       "      quickchartButtonEl.classList.remove('colab-df-spinner');\n",
       "      quickchartButtonEl.classList.add('colab-df-quickchart-complete');\n",
       "    }\n",
       "    (() => {\n",
       "      let quickchartButtonEl =\n",
       "        document.querySelector('#df-ebc27fc7-5588-4d8c-84b2-cb9ba86111fe button');\n",
       "      quickchartButtonEl.style.display =\n",
       "        google.colab.kernel.accessAllowed ? 'block' : 'none';\n",
       "    })();\n",
       "  </script>\n",
       "</div>\n",
       "    </div>\n",
       "  </div>\n"
      ],
      "text/plain": [
       "  property_type                          society      sector  price  \\\n",
       "0          flat  signature global orchard avenue   sector 93   0.40   \n",
       "1          flat                      zara aavaas  sector 104   0.40   \n",
       "2          flat                      ats triumph  sector 104   2.55   \n",
       "3          flat           experion the heartsong  sector 108   1.65   \n",
       "4         house           unitech deerwood chase   sector 50   8.45   \n",
       "\n",
       "   price_per_sqft    area                                       areaWithType  \\\n",
       "0          7359.0   544.0                   Carpet area: 543.53 (50.5 sq.m.)   \n",
       "1          7029.0   569.0               Super Built up area 569(52.86 sq.m.)   \n",
       "2         13076.0  1950.0  Super Built up area 3150(292.64 sq.m.)Carpet a...   \n",
       "3          8237.0  2003.0  Super Built up area 2003(186.08 sq.m.)Built Up...   \n",
       "4        235376.0   359.0                         Plot area 359(33.35 sq.m.)   \n",
       "\n",
       "   bedRoom  bathroom balcony  ...  super_built_up_area built_up_area  \\\n",
       "0        2         2       2  ...                  NaN           NaN   \n",
       "1        2         2       1  ...                569.0           NaN   \n",
       "2        4         4      3+  ...               3150.0           NaN   \n",
       "3        3         4       3  ...               2003.0       1771.32   \n",
       "4        3         3       2  ...                  NaN        359.00   \n",
       "\n",
       "  carpet_area  study room  servant room  store room  pooja room  others  \\\n",
       "0   543.57695           0             0           0           0       0   \n",
       "1         NaN           0             0           0           0       0   \n",
       "2  1950.00000           0             1           0           0       0   \n",
       "3  1302.01000           1             0           0           0       0   \n",
       "4         NaN           1             1           0           0       0   \n",
       "\n",
       "   furnishing_type  luxury_score  \n",
       "0                0            37  \n",
       "1                0            38  \n",
       "2                0           150  \n",
       "3                2            75  \n",
       "4                2           102  \n",
       "\n",
       "[5 rows x 23 columns]"
      ]
     },
     "execution_count": 33,
     "metadata": {},
     "output_type": "execute_result"
    }
   ],
   "source": [
    "df.head()"
   ]
  },
  {
   "cell_type": "code",
   "execution_count": 34,
   "metadata": {
    "colab": {
     "base_uri": "https://localhost:8080/",
     "height": 430
    },
    "id": "ZGWqyJrfXd-k",
    "outputId": "218871f0-423c-45a0-9976-bdd915c5ba2b"
   },
   "outputs": [
    {
     "data": {
      "image/png": "[encoded data removed]",
      "text/plain": [
       "<Figure size 640x480 with 1 Axes>"
      ]
     },
     "metadata": {},
     "output_type": "display_data"
    }
   ],
   "source": [
    "# Empirical Cumulative Distribution Function (ECDF) plot\n",
    "ecdf = df['price'].value_counts().sort_index().cumsum() / len(df['price'])\n",
    "plt.plot(ecdf.index, ecdf, marker='.', linestyle='none')\n",
    "plt.grid()"
   ]
  },
  {
   "cell_type": "code",
   "execution_count": 35,
   "metadata": {
    "colab": {
     "base_uri": "https://localhost:8080/",
     "height": 476
    },
    "id": "5mWB37H-ZYOr",
    "outputId": "ae769177-5884-4fea-93ac-d20557fab1bf"
   },
   "outputs": [
    {
     "data": {
      "image/png": "[encoded data removed]",
      "text/plain": [
       "<Figure size 1500x600 with 2 Axes>"
      ]
     },
     "metadata": {},
     "output_type": "display_data"
    }
   ],
   "source": [
    "plt.figure(figsize=(15, 6))\n",
    "\n",
    "# Distribution plot without log transformation\n",
    "plt.subplot(1, 2, 1)\n",
    "sns.histplot(df['price'], kde=True, bins=50, color='Red')\n",
    "plt.title('Distribution of Prices (Original)')\n",
    "plt.xlabel('Price (in Crores)')\n",
    "plt.ylabel('Frequency')\n",
    "\n",
    "# Distribution plot with log transformation\n",
    "plt.subplot(1, 2, 2)\n",
    "sns.histplot(np.log1p(df['price']), kde=True, bins=50, color='green')\n",
    "plt.title('Distribution of Prices (Log Transformed)')\n",
    "plt.xlabel('Log(Price)')\n",
    "plt.ylabel('Frequency')\n",
    "\n",
    "plt.tight_layout()\n",
    "plt.show()"
   ]
  },
  {
   "cell_type": "markdown",
   "metadata": {
    "id": "gbcSe0U1dZfk"
   },
   "source": [
    "* np.log1p(x): This function computes the natural logarithm of 1+x. It's designed to provide more accurate results for values of x that are very close to zero.\n",
    "\n",
    "* Using np.log1p helps in transforming the price column while ensuring that any value (including zero, if present) is handled appropriately. When we need to reverse the transformation, we can use np.expm1 which computes e^x-1"
   ]
  },
  {
   "cell_type": "code",
   "execution_count": 36,
   "metadata": {
    "colab": {
     "base_uri": "https://localhost:8080/"
    },
    "id": "L3pNyD_ncemX",
    "outputId": "176b3e71-c31a-479e-c96f-ec9f2c74ee3b"
   },
   "outputs": [
    {
     "name": "stdout",
     "output_type": "stream",
     "text": [
      "1.0740709565255313 0.9646692415449274\n"
     ]
    }
   ],
   "source": [
    "skewness = np.log1p(df['price']).skew()\n",
    "kurtosis = np.log1p(df['price']).kurt()\n",
    "\n",
    "print(skewness,kurtosis)"
   ]
  },
  {
   "cell_type": "code",
   "execution_count": 37,
   "metadata": {
    "colab": {
     "base_uri": "https://localhost:8080/",
     "height": 476
    },
    "id": "aNvUAbC9e3r9",
    "outputId": "f25bb79b-b6cc-43f3-d907-5801b365a80d"
   },
   "outputs": [
    {
     "data": {
      "image/png": "[encoded data removed]",
      "text/plain": [
       "<Figure size 1500x600 with 2 Axes>"
      ]
     },
     "metadata": {},
     "output_type": "display_data"
    }
   ],
   "source": [
    "plt.figure(figsize=(15, 6))\n",
    "\n",
    "# Distribution plot without log transformation\n",
    "plt.subplot(1, 2, 1)\n",
    "sns.boxplot(df['price'], color='grey')\n",
    "plt.title('Distribution of Prices (Original)')\n",
    "plt.xlabel('Price (in Crores)')\n",
    "plt.ylabel('Frequency')\n",
    "\n",
    "# Distribution plot with log transformation\n",
    "plt.subplot(1, 2, 2)\n",
    "sns.boxplot(np.log1p(df['price']), color='green')\n",
    "plt.title('Distribution of Prices (Log Transformed)')\n",
    "plt.xlabel('Log(Price)')\n",
    "plt.ylabel('Frequency')\n",
    "\n",
    "plt.tight_layout()\n",
    "plt.show()"
   ]
  },
  {
   "cell_type": "markdown",
   "metadata": {
    "id": "XsPdsdHffr53"
   },
   "source": [
    "## **price_per_sqft**"
   ]
  },
  {
   "cell_type": "code",
   "execution_count": 38,
   "metadata": {
    "colab": {
     "base_uri": "https://localhost:8080/"
    },
    "id": "204QkyrvfFwG",
    "outputId": "8e4cbcbe-dde1-41c4-e9ba-b5ffe2d735ce"
   },
   "outputs": [
    {
     "data": {
      "text/plain": [
       "17"
      ]
     },
     "execution_count": 38,
     "metadata": {},
     "output_type": "execute_result"
    }
   ],
   "source": [
    "df['price_per_sqft'].isnull().sum()"
   ]
  },
  {
   "cell_type": "code",
   "execution_count": 39,
   "metadata": {
    "colab": {
     "base_uri": "https://localhost:8080/"
    },
    "id": "ph936DZhfyzO",
    "outputId": "f4459c93-8868-4e9e-cb87-22451c6ff2e5"
   },
   "outputs": [
    {
     "data": {
      "text/plain": [
       "count      3660.000000\n",
       "mean      13892.668306\n",
       "std       23210.067190\n",
       "min           4.000000\n",
       "25%        6817.250000\n",
       "50%        9020.000000\n",
       "75%       13880.500000\n",
       "max      600000.000000\n",
       "Name: price_per_sqft, dtype: float64"
      ]
     },
     "execution_count": 39,
     "metadata": {},
     "output_type": "execute_result"
    }
   ],
   "source": [
    "df['price_per_sqft'].describe()"
   ]
  },
  {
   "cell_type": "code",
   "execution_count": 40,
   "metadata": {
    "colab": {
     "base_uri": "https://localhost:8080/",
     "height": 467
    },
    "id": "4Lhbvb9hf4AE",
    "outputId": "ddee0fb9-c89a-465e-9cc2-a2b5906c2ae7"
   },
   "outputs": [
    {
     "data": {
      "text/plain": [
       "<Axes: xlabel='price_per_sqft', ylabel='Count'>"
      ]
     },
     "execution_count": 40,
     "metadata": {},
     "output_type": "execute_result"
    },
    {
     "data": {
      "image/png": "[encoded data removed]",
      "text/plain": [
       "<Figure size 640x480 with 1 Axes>"
      ]
     },
     "metadata": {},
     "output_type": "display_data"
    }
   ],
   "source": [
    "sns.histplot(df['price_per_sqft'], bins=50, color='blue', kde=True)"
   ]
  },
  {
   "cell_type": "markdown",
   "metadata": {
    "id": "BLnHaliZgZPn"
   },
   "source": [
    "Most properties have a price_per_sqft ranging between approximately ₹0 and ₹40,000. There is a significant concentration in the lower range, with a few properties having exceptionally high price_per_sqft."
   ]
  },
  {
   "cell_type": "code",
   "execution_count": 41,
   "metadata": {
    "colab": {
     "base_uri": "https://localhost:8080/",
     "height": 447
    },
    "id": "vPQ95_U0gIqc",
    "outputId": "14ecc4b9-28aa-4e43-9123-a44e474e5dc8"
   },
   "outputs": [
    {
     "data": {
      "text/plain": [
       "<Axes: >"
      ]
     },
     "execution_count": 41,
     "metadata": {},
     "output_type": "execute_result"
    },
    {
     "data": {
      "image/png": "[encoded data removed]",
      "text/plain": [
       "<Figure size 640x480 with 1 Axes>"
      ]
     },
     "metadata": {},
     "output_type": "display_data"
    }
   ],
   "source": [
    "sns.boxplot(df['price_per_sqft'], color='lightgreen')"
   ]
  },
  {
   "cell_type": "markdown",
   "metadata": {
    "id": "zQZJgxuw2pLJ"
   },
   "source": [
    "The box plot clearly shows several outliers, especially on the higher side. The interquartile range (IQR) is relatively compact, but there are many data points beyond the \"whiskers\" of the box plot, indicating potential outliers"
   ]
  },
  {
   "cell_type": "markdown",
   "metadata": {
    "id": "7vCEMkOf2qr5"
   },
   "source": [
    "### **Observations**\n",
    "* Potential Outliers\n",
    "* Right Skewed\n",
    "* 17 missing values"
   ]
  },
  {
   "cell_type": "markdown",
   "metadata": {
    "id": "ugBt1NW920yG"
   },
   "source": [
    "## **bedRoom**"
   ]
  },
  {
   "cell_type": "code",
   "execution_count": 42,
   "metadata": {
    "colab": {
     "base_uri": "https://localhost:8080/"
    },
    "id": "C9TdSJXIgoSF",
    "outputId": "fd2d5456-9c00-481a-a0bd-63264e5c627a"
   },
   "outputs": [
    {
     "data": {
      "text/plain": [
       "0"
      ]
     },
     "execution_count": 42,
     "metadata": {},
     "output_type": "execute_result"
    }
   ],
   "source": [
    "df['bedRoom'].isnull().sum()"
   ]
  },
  {
   "cell_type": "code",
   "execution_count": 43,
   "metadata": {
    "colab": {
     "base_uri": "https://localhost:8080/",
     "height": 451
    },
    "id": "tLPKowi028wZ",
    "outputId": "5fefea2b-7eff-46ba-9a8a-449b61f5a0b8"
   },
   "outputs": [
    {
     "data": {
      "text/plain": [
       "<Axes: >"
      ]
     },
     "execution_count": 43,
     "metadata": {},
     "output_type": "execute_result"
    },
    {
     "data": {
      "image/png": "[encoded data removed]",
      "text/plain": [
       "<Figure size 640x480 with 1 Axes>"
      ]
     },
     "metadata": {},
     "output_type": "display_data"
    }
   ],
   "source": [
    "df['bedRoom'].value_counts().sort_index().plot(kind='bar')"
   ]
  },
  {
   "cell_type": "code",
   "execution_count": 49,
   "metadata": {
    "colab": {
     "base_uri": "https://localhost:8080/",
     "height": 423
    },
    "id": "nW9wjcJ63Hsw",
    "outputId": "bffafde9-6650-4da7-afd4-d6745e4d17ec"
   },
   "outputs": [
    {
     "data": {
      "text/plain": [
       "<Axes: ylabel='bedRoom'>"
      ]
     },
     "execution_count": 49,
     "metadata": {},
     "output_type": "execute_result"
    },
    {
     "data": {
      "image/png": "[encoded data removed]",
      "text/plain": [
       "<Figure size 640x480 with 1 Axes>"
      ]
     },
     "metadata": {},
     "output_type": "display_data"
    }
   ],
   "source": [
    "df['bedRoom'].value_counts(normalize=True).head().plot(kind='pie',autopct='%0.2f%%')"
   ]
  },
  {
   "cell_type": "markdown",
   "metadata": {
    "id": "bgTFEuWt5iRC"
   },
   "source": [
    "### **Observation**\n",
    "* in bedroom there is no null values\n",
    "* we have three bedroom in many flats and houses\n",
    "* maximum 21 bedroom is present"
   ]
  },
  {
   "cell_type": "markdown",
   "metadata": {
    "id": "CYwELl4p3lC8"
   },
   "source": [
    "## **bathroom**"
   ]
  },
  {
   "cell_type": "code",
   "execution_count": 50,
   "metadata": {
    "colab": {
     "base_uri": "https://localhost:8080/"
    },
    "id": "goEEsR6q3R-6",
    "outputId": "d9986fa8-22e3-48ef-9c52-f97dbe9e7c7f"
   },
   "outputs": [
    {
     "data": {
      "text/plain": [
       "0"
      ]
     },
     "execution_count": 50,
     "metadata": {},
     "output_type": "execute_result"
    }
   ],
   "source": [
    "df['bathroom'].isnull().sum()"
   ]
  },
  {
   "cell_type": "code",
   "execution_count": 52,
   "metadata": {
    "colab": {
     "base_uri": "https://localhost:8080/",
     "height": 451
    },
    "id": "joMQvT2a3rTg",
    "outputId": "ee89a0fc-012d-4e20-a5d3-73fe1f351259"
   },
   "outputs": [
    {
     "data": {
      "text/plain": [
       "<Axes: >"
      ]
     },
     "execution_count": 52,
     "metadata": {},
     "output_type": "execute_result"
    },
    {
     "data": {
      "image/png": "[encoded data removed]",
      "text/plain": [
       "<Figure size 640x480 with 1 Axes>"
      ]
     },
     "metadata": {},
     "output_type": "display_data"
    }
   ],
   "source": [
    "df['bathroom'].value_counts().sort_index().plot(kind='bar')"
   ]
  },
  {
   "cell_type": "code",
   "execution_count": 53,
   "metadata": {
    "colab": {
     "base_uri": "https://localhost:8080/",
     "height": 423
    },
    "id": "Jl5zbBmc32Uo",
    "outputId": "e8dd55a6-92c3-467c-9cfa-877e71755cef"
   },
   "outputs": [
    {
     "data": {
      "text/plain": [
       "<Axes: ylabel='bathroom'>"
      ]
     },
     "execution_count": 53,
     "metadata": {},
     "output_type": "execute_result"
    },
    {
     "data": {
      "image/png": "[encoded data removed]",
      "text/plain": [
       "<Figure size 640x480 with 1 Axes>"
      ]
     },
     "metadata": {},
     "output_type": "display_data"
    }
   ],
   "source": [
    "df['bathroom'].value_counts(normalize=True).head().plot(kind='pie',autopct='%0.2f%%')"
   ]
  },
  {
   "cell_type": "code",
   "execution_count": 54,
   "metadata": {
    "colab": {
     "base_uri": "https://localhost:8080/",
     "height": 550
    },
    "id": "IcpN7Yjy4EiQ",
    "outputId": "7b404843-c2ba-40c8-b357-46073b7ef3df"
   },
   "outputs": [
    {
     "data": {
      "text/html": [
       "\n",
       "  <div id=\"df-7a80f7c4-dc26-40a6-8db2-b3102c205478\" class=\"colab-df-container\">\n",
       "    <div>\n",
       "<style scoped>\n",
       "    .dataframe tbody tr th:only-of-type {\n",
       "        vertical-align: middle;\n",
       "    }\n",
       "\n",
       "    .dataframe tbody tr th {\n",
       "        vertical-align: top;\n",
       "    }\n",
       "\n",
       "    .dataframe thead th {\n",
       "        text-align: right;\n",
       "    }\n",
       "</style>\n",
       "<table border=\"1\" class=\"dataframe\">\n",
       "  <thead>\n",
       "    <tr style=\"text-align: right;\">\n",
       "      <th></th>\n",
       "      <th>property_type</th>\n",
       "      <th>society</th>\n",
       "      <th>sector</th>\n",
       "      <th>price</th>\n",
       "      <th>price_per_sqft</th>\n",
       "      <th>area</th>\n",
       "      <th>areaWithType</th>\n",
       "      <th>bedRoom</th>\n",
       "      <th>bathroom</th>\n",
       "      <th>balcony</th>\n",
       "      <th>...</th>\n",
       "      <th>super_built_up_area</th>\n",
       "      <th>built_up_area</th>\n",
       "      <th>carpet_area</th>\n",
       "      <th>study room</th>\n",
       "      <th>servant room</th>\n",
       "      <th>store room</th>\n",
       "      <th>pooja room</th>\n",
       "      <th>others</th>\n",
       "      <th>furnishing_type</th>\n",
       "      <th>luxury_score</th>\n",
       "    </tr>\n",
       "  </thead>\n",
       "  <tbody>\n",
       "    <tr>\n",
       "      <th>0</th>\n",
       "      <td>flat</td>\n",
       "      <td>signature global orchard avenue</td>\n",
       "      <td>sector 93</td>\n",
       "      <td>0.40</td>\n",
       "      <td>7359.0</td>\n",
       "      <td>544.0</td>\n",
       "      <td>Carpet area: 543.53 (50.5 sq.m.)</td>\n",
       "      <td>2</td>\n",
       "      <td>2</td>\n",
       "      <td>2</td>\n",
       "      <td>...</td>\n",
       "      <td>NaN</td>\n",
       "      <td>NaN</td>\n",
       "      <td>543.57695</td>\n",
       "      <td>0</td>\n",
       "      <td>0</td>\n",
       "      <td>0</td>\n",
       "      <td>0</td>\n",
       "      <td>0</td>\n",
       "      <td>0</td>\n",
       "      <td>37</td>\n",
       "    </tr>\n",
       "    <tr>\n",
       "      <th>1</th>\n",
       "      <td>flat</td>\n",
       "      <td>zara aavaas</td>\n",
       "      <td>sector 104</td>\n",
       "      <td>0.40</td>\n",
       "      <td>7029.0</td>\n",
       "      <td>569.0</td>\n",
       "      <td>Super Built up area 569(52.86 sq.m.)</td>\n",
       "      <td>2</td>\n",
       "      <td>2</td>\n",
       "      <td>1</td>\n",
       "      <td>...</td>\n",
       "      <td>569.0</td>\n",
       "      <td>NaN</td>\n",
       "      <td>NaN</td>\n",
       "      <td>0</td>\n",
       "      <td>0</td>\n",
       "      <td>0</td>\n",
       "      <td>0</td>\n",
       "      <td>0</td>\n",
       "      <td>0</td>\n",
       "      <td>38</td>\n",
       "    </tr>\n",
       "    <tr>\n",
       "      <th>2</th>\n",
       "      <td>flat</td>\n",
       "      <td>ats triumph</td>\n",
       "      <td>sector 104</td>\n",
       "      <td>2.55</td>\n",
       "      <td>13076.0</td>\n",
       "      <td>1950.0</td>\n",
       "      <td>Super Built up area 3150(292.64 sq.m.)Carpet a...</td>\n",
       "      <td>4</td>\n",
       "      <td>4</td>\n",
       "      <td>3+</td>\n",
       "      <td>...</td>\n",
       "      <td>3150.0</td>\n",
       "      <td>NaN</td>\n",
       "      <td>1950.00000</td>\n",
       "      <td>0</td>\n",
       "      <td>1</td>\n",
       "      <td>0</td>\n",
       "      <td>0</td>\n",
       "      <td>0</td>\n",
       "      <td>0</td>\n",
       "      <td>150</td>\n",
       "    </tr>\n",
       "    <tr>\n",
       "      <th>3</th>\n",
       "      <td>flat</td>\n",
       "      <td>experion the heartsong</td>\n",
       "      <td>sector 108</td>\n",
       "      <td>1.65</td>\n",
       "      <td>8237.0</td>\n",
       "      <td>2003.0</td>\n",
       "      <td>Super Built up area 2003(186.08 sq.m.)Built Up...</td>\n",
       "      <td>3</td>\n",
       "      <td>4</td>\n",
       "      <td>3</td>\n",
       "      <td>...</td>\n",
       "      <td>2003.0</td>\n",
       "      <td>1771.32</td>\n",
       "      <td>1302.01000</td>\n",
       "      <td>1</td>\n",
       "      <td>0</td>\n",
       "      <td>0</td>\n",
       "      <td>0</td>\n",
       "      <td>0</td>\n",
       "      <td>2</td>\n",
       "      <td>75</td>\n",
       "    </tr>\n",
       "    <tr>\n",
       "      <th>4</th>\n",
       "      <td>house</td>\n",
       "      <td>unitech deerwood chase</td>\n",
       "      <td>sector 50</td>\n",
       "      <td>8.45</td>\n",
       "      <td>235376.0</td>\n",
       "      <td>359.0</td>\n",
       "      <td>Plot area 359(33.35 sq.m.)</td>\n",
       "      <td>3</td>\n",
       "      <td>3</td>\n",
       "      <td>2</td>\n",
       "      <td>...</td>\n",
       "      <td>NaN</td>\n",
       "      <td>359.00</td>\n",
       "      <td>NaN</td>\n",
       "      <td>1</td>\n",
       "      <td>1</td>\n",
       "      <td>0</td>\n",
       "      <td>0</td>\n",
       "      <td>0</td>\n",
       "      <td>2</td>\n",
       "      <td>102</td>\n",
       "    </tr>\n",
       "  </tbody>\n",
       "</table>\n",
       "<p>5 rows × 23 columns</p>\n",
       "</div>\n",
       "    <div class=\"colab-df-buttons\">\n",
       "\n",
       "  <div class=\"colab-df-container\">\n",
       "    <button class=\"colab-df-convert\" onclick=\"convertToInteractive('df-7a80f7c4-dc26-40a6-8db2-b3102c205478')\"\n",
       "            title=\"Convert this dataframe to an interactive table.\"\n",
       "            style=\"display:none;\">\n",
       "\n",
       "  <svg xmlns=\"http://www.w3.org/2000/svg\" height=\"24px\" viewBox=\"0 -960 960 960\">\n",
       "    <path d=\"M120-120v-720h720v720H120Zm60-500h600v-160H180v160Zm220 220h160v-160H400v160Zm0 220h160v-160H400v160ZM180-400h160v-160H180v160Zm440 0h160v-160H620v160ZM180-180h160v-160H180v160Zm440 0h160v-160H620v160Z\"/>\n",
       "  </svg>\n",
       "    </button>\n",
       "\n",
       "  <style>\n",
       "    .colab-df-container {\n",
       "      display:flex;\n",
       "      gap: 12px;\n",
       "    }\n",
       "\n",
       "    .colab-df-convert {\n",
       "      background-color: #E8F0FE;\n",
       "      border: none;\n",
       "      border-radius: 50%;\n",
       "      cursor: pointer;\n",
       "      display: none;\n",
       "      fill: #1967D2;\n",
       "      height: 32px;\n",
       "      padding: 0 0 0 0;\n",
       "      width: 32px;\n",
       "    }\n",
       "\n",
       "    .colab-df-convert:hover {\n",
       "      background-color: #E2EBFA;\n",
       "      box-shadow: 0px 1px 2px rgba(60, 64, 67, 0.3), 0px 1px 3px 1px rgba(60, 64, 67, 0.15);\n",
       "      fill: #174EA6;\n",
       "    }\n",
       "\n",
       "    .colab-df-buttons div {\n",
       "      margin-bottom: 4px;\n",
       "    }\n",
       "\n",
       "    [theme=dark] .colab-df-convert {\n",
       "      background-color: #3B4455;\n",
       "      fill: #D2E3FC;\n",
       "    }\n",
       "\n",
       "    [theme=dark] .colab-df-convert:hover {\n",
       "      background-color: #434B5C;\n",
       "      box-shadow: 0px 1px 3px 1px rgba(0, 0, 0, 0.15);\n",
       "      filter: drop-shadow(0px 1px 2px rgba(0, 0, 0, 0.3));\n",
       "      fill: #FFFFFF;\n",
       "    }\n",
       "  </style>\n",
       "\n",
       "    <script>\n",
       "      const buttonEl =\n",
       "        document.querySelector('#df-7a80f7c4-dc26-40a6-8db2-b3102c205478 button.colab-df-convert');\n",
       "      buttonEl.style.display =\n",
       "        google.colab.kernel.accessAllowed ? 'block' : 'none';\n",
       "\n",
       "      async function convertToInteractive(key) {\n",
       "        const element = document.querySelector('#df-7a80f7c4-dc26-40a6-8db2-b3102c205478');\n",
       "        const dataTable =\n",
       "          await google.colab.kernel.invokeFunction('convertToInteractive',\n",
       "                                                    [key], {});\n",
       "        if (!dataTable) return;\n",
       "\n",
       "        const docLinkHtml = 'Like what you see? Visit the ' +\n",
       "          '<a target=\"_blank\" href=https://colab.research.google.com/notebooks/data_table.ipynb>data table notebook</a>'\n",
       "          + ' to learn more about interactive tables.';\n",
       "        element.innerHTML = '';\n",
       "        dataTable['output_type'] = 'display_data';\n",
       "        await google.colab.output.renderOutput(dataTable, element);\n",
       "        const docLink = document.createElement('div');\n",
       "        docLink.innerHTML = docLinkHtml;\n",
       "        element.appendChild(docLink);\n",
       "      }\n",
       "    </script>\n",
       "  </div>\n",
       "\n",
       "\n",
       "<div id=\"df-06d7a9a0-fcb7-4015-8bdc-8b5e40c8b62c\">\n",
       "  <button class=\"colab-df-quickchart\" onclick=\"quickchart('df-06d7a9a0-fcb7-4015-8bdc-8b5e40c8b62c')\"\n",
       "            title=\"Suggest charts.\"\n",
       "            style=\"display:none;\">\n",
       "\n",
       "<svg xmlns=\"http://www.w3.org/2000/svg\" height=\"24px\"viewBox=\"0 0 24 24\"\n",
       "     width=\"24px\">\n",
       "    <g>\n",
       "        <path d=\"M19 3H5c-1.1 0-2 .9-2 2v14c0 1.1.9 2 2 2h14c1.1 0 2-.9 2-2V5c0-1.1-.9-2-2-2zM9 17H7v-7h2v7zm4 0h-2V7h2v10zm4 0h-2v-4h2v4z\"/>\n",
       "    </g>\n",
       "</svg>\n",
       "  </button>\n",
       "\n",
       "<style>\n",
       "  .colab-df-quickchart {\n",
       "      --bg-color: #E8F0FE;\n",
       "      --fill-color: #1967D2;\n",
       "      --hover-bg-color: #E2EBFA;\n",
       "      --hover-fill-color: #174EA6;\n",
       "      --disabled-fill-color: #AAA;\n",
       "      --disabled-bg-color: #DDD;\n",
       "  }\n",
       "\n",
       "  [theme=dark] .colab-df-quickchart {\n",
       "      --bg-color: #3B4455;\n",
       "      --fill-color: #D2E3FC;\n",
       "      --hover-bg-color: #434B5C;\n",
       "      --hover-fill-color: #FFFFFF;\n",
       "      --disabled-bg-color: #3B4455;\n",
       "      --disabled-fill-color: #666;\n",
       "  }\n",
       "\n",
       "  .colab-df-quickchart {\n",
       "    background-color: var(--bg-color);\n",
       "    border: none;\n",
       "    border-radius: 50%;\n",
       "    cursor: pointer;\n",
       "    display: none;\n",
       "    fill: var(--fill-color);\n",
       "    height: 32px;\n",
       "    padding: 0;\n",
       "    width: 32px;\n",
       "  }\n",
       "\n",
       "  .colab-df-quickchart:hover {\n",
       "    background-color: var(--hover-bg-color);\n",
       "    box-shadow: 0 1px 2px rgba(60, 64, 67, 0.3), 0 1px 3px 1px rgba(60, 64, 67, 0.15);\n",
       "    fill: var(--button-hover-fill-color);\n",
       "  }\n",
       "\n",
       "  .colab-df-quickchart-complete:disabled,\n",
       "  .colab-df-quickchart-complete:disabled:hover {\n",
       "    background-color: var(--disabled-bg-color);\n",
       "    fill: var(--disabled-fill-color);\n",
       "    box-shadow: none;\n",
       "  }\n",
       "\n",
       "  .colab-df-spinner {\n",
       "    border: 2px solid var(--fill-color);\n",
       "    border-color: transparent;\n",
       "    border-bottom-color: var(--fill-color);\n",
       "    animation:\n",
       "      spin 1s steps(1) infinite;\n",
       "  }\n",
       "\n",
       "  @keyframes spin {\n",
       "    0% {\n",
       "      border-color: transparent;\n",
       "      border-bottom-color: var(--fill-color);\n",
       "      border-left-color: var(--fill-color);\n",
       "    }\n",
       "    20% {\n",
       "      border-color: transparent;\n",
       "      border-left-color: var(--fill-color);\n",
       "      border-top-color: var(--fill-color);\n",
       "    }\n",
       "    30% {\n",
       "      border-color: transparent;\n",
       "      border-left-color: var(--fill-color);\n",
       "      border-top-color: var(--fill-color);\n",
       "      border-right-color: var(--fill-color);\n",
       "    }\n",
       "    40% {\n",
       "      border-color: transparent;\n",
       "      border-right-color: var(--fill-color);\n",
       "      border-top-color: var(--fill-color);\n",
       "    }\n",
       "    60% {\n",
       "      border-color: transparent;\n",
       "      border-right-color: var(--fill-color);\n",
       "    }\n",
       "    80% {\n",
       "      border-color: transparent;\n",
       "      border-right-color: var(--fill-color);\n",
       "      border-bottom-color: var(--fill-color);\n",
       "    }\n",
       "    90% {\n",
       "      border-color: transparent;\n",
       "      border-bottom-color: var(--fill-color);\n",
       "    }\n",
       "  }\n",
       "</style>\n",
       "\n",
       "  <script>\n",
       "    async function quickchart(key) {\n",
       "      const quickchartButtonEl =\n",
       "        document.querySelector('#' + key + ' button');\n",
       "      quickchartButtonEl.disabled = true;  // To prevent multiple clicks.\n",
       "      quickchartButtonEl.classList.add('colab-df-spinner');\n",
       "      try {\n",
       "        const charts = await google.colab.kernel.invokeFunction(\n",
       "            'suggestCharts', [key], {});\n",
       "      } catch (error) {\n",
       "        console.error('Error during call to suggestCharts:', error);\n",
       "      }\n",
       "      quickchartButtonEl.classList.remove('colab-df-spinner');\n",
       "      quickchartButtonEl.classList.add('colab-df-quickchart-complete');\n",
       "    }\n",
       "    (() => {\n",
       "      let quickchartButtonEl =\n",
       "        document.querySelector('#df-06d7a9a0-fcb7-4015-8bdc-8b5e40c8b62c button');\n",
       "      quickchartButtonEl.style.display =\n",
       "        google.colab.kernel.accessAllowed ? 'block' : 'none';\n",
       "    })();\n",
       "  </script>\n",
       "</div>\n",
       "    </div>\n",
       "  </div>\n"
      ],
      "text/plain": [
       "  property_type                          society      sector  price  \\\n",
       "0          flat  signature global orchard avenue   sector 93   0.40   \n",
       "1          flat                      zara aavaas  sector 104   0.40   \n",
       "2          flat                      ats triumph  sector 104   2.55   \n",
       "3          flat           experion the heartsong  sector 108   1.65   \n",
       "4         house           unitech deerwood chase   sector 50   8.45   \n",
       "\n",
       "   price_per_sqft    area                                       areaWithType  \\\n",
       "0          7359.0   544.0                   Carpet area: 543.53 (50.5 sq.m.)   \n",
       "1          7029.0   569.0               Super Built up area 569(52.86 sq.m.)   \n",
       "2         13076.0  1950.0  Super Built up area 3150(292.64 sq.m.)Carpet a...   \n",
       "3          8237.0  2003.0  Super Built up area 2003(186.08 sq.m.)Built Up...   \n",
       "4        235376.0   359.0                         Plot area 359(33.35 sq.m.)   \n",
       "\n",
       "   bedRoom  bathroom balcony  ...  super_built_up_area built_up_area  \\\n",
       "0        2         2       2  ...                  NaN           NaN   \n",
       "1        2         2       1  ...                569.0           NaN   \n",
       "2        4         4      3+  ...               3150.0           NaN   \n",
       "3        3         4       3  ...               2003.0       1771.32   \n",
       "4        3         3       2  ...                  NaN        359.00   \n",
       "\n",
       "  carpet_area  study room  servant room  store room  pooja room  others  \\\n",
       "0   543.57695           0             0           0           0       0   \n",
       "1         NaN           0             0           0           0       0   \n",
       "2  1950.00000           0             1           0           0       0   \n",
       "3  1302.01000           1             0           0           0       0   \n",
       "4         NaN           1             1           0           0       0   \n",
       "\n",
       "   furnishing_type  luxury_score  \n",
       "0                0            37  \n",
       "1                0            38  \n",
       "2                0           150  \n",
       "3                2            75  \n",
       "4                2           102  \n",
       "\n",
       "[5 rows x 23 columns]"
      ]
     },
     "execution_count": 54,
     "metadata": {},
     "output_type": "execute_result"
    }
   ],
   "source": [
    "df.head()"
   ]
  },
  {
   "cell_type": "markdown",
   "metadata": {
    "id": "hfv295po4L1y"
   },
   "source": [
    "## **balcony**"
   ]
  },
  {
   "cell_type": "code",
   "execution_count": 55,
   "metadata": {
    "colab": {
     "base_uri": "https://localhost:8080/"
    },
    "id": "DlczHN7Z4HHP",
    "outputId": "ff96b9d9-f23e-47c9-ded8-900a96061854"
   },
   "outputs": [
    {
     "data": {
      "text/plain": [
       "0"
      ]
     },
     "execution_count": 55,
     "metadata": {},
     "output_type": "execute_result"
    }
   ],
   "source": [
    "df['balcony'].isnull().sum()"
   ]
  },
  {
   "cell_type": "code",
   "execution_count": 56,
   "metadata": {
    "colab": {
     "base_uri": "https://localhost:8080/",
     "height": 453
    },
    "id": "txovnHnP4SeI",
    "outputId": "ed617ce9-ea25-48b2-9556-de49416be420"
   },
   "outputs": [
    {
     "data": {
      "text/plain": [
       "<Axes: >"
      ]
     },
     "execution_count": 56,
     "metadata": {},
     "output_type": "execute_result"
    },
    {
     "data": {
      "image/png": "[encoded data removed]",
      "text/plain": [
       "<Figure size 640x480 with 1 Axes>"
      ]
     },
     "metadata": {},
     "output_type": "display_data"
    }
   ],
   "source": [
    "df['balcony'].value_counts().plot(kind='bar')"
   ]
  },
  {
   "cell_type": "code",
   "execution_count": 57,
   "metadata": {
    "colab": {
     "base_uri": "https://localhost:8080/",
     "height": 423
    },
    "id": "7cd2qCDm4eAp",
    "outputId": "d99d7628-fc6f-4c8f-886e-aff9c5b6c625"
   },
   "outputs": [
    {
     "data": {
      "text/plain": [
       "<Axes: ylabel='balcony'>"
      ]
     },
     "execution_count": 57,
     "metadata": {},
     "output_type": "execute_result"
    },
    {
     "data": {
      "image/png": "[encoded data removed]",
      "text/plain": [
       "<Figure size 640x480 with 1 Axes>"
      ]
     },
     "metadata": {},
     "output_type": "display_data"
    }
   ],
   "source": [
    "df['balcony'].value_counts(normalize=True).head().plot(kind='pie',autopct='%0.2f%%')"
   ]
  },
  {
   "cell_type": "code",
   "execution_count": 59,
   "metadata": {
    "colab": {
     "base_uri": "https://localhost:8080/",
     "height": 550
    },
    "id": "PJBs9QHi5UhO",
    "outputId": "2801b7ab-d1b7-4c23-8bba-3c28ecbf00a0"
   },
   "outputs": [
    {
     "data": {
      "text/html": [
       "\n",
       "  <div id=\"df-f03fdda4-893e-4f92-bd05-d6b0321a5e8c\" class=\"colab-df-container\">\n",
       "    <div>\n",
       "<style scoped>\n",
       "    .dataframe tbody tr th:only-of-type {\n",
       "        vertical-align: middle;\n",
       "    }\n",
       "\n",
       "    .dataframe tbody tr th {\n",
       "        vertical-align: top;\n",
       "    }\n",
       "\n",
       "    .dataframe thead th {\n",
       "        text-align: right;\n",
       "    }\n",
       "</style>\n",
       "<table border=\"1\" class=\"dataframe\">\n",
       "  <thead>\n",
       "    <tr style=\"text-align: right;\">\n",
       "      <th></th>\n",
       "      <th>property_type</th>\n",
       "      <th>society</th>\n",
       "      <th>sector</th>\n",
       "      <th>price</th>\n",
       "      <th>price_per_sqft</th>\n",
       "      <th>area</th>\n",
       "      <th>areaWithType</th>\n",
       "      <th>bedRoom</th>\n",
       "      <th>bathroom</th>\n",
       "      <th>balcony</th>\n",
       "      <th>...</th>\n",
       "      <th>super_built_up_area</th>\n",
       "      <th>built_up_area</th>\n",
       "      <th>carpet_area</th>\n",
       "      <th>study room</th>\n",
       "      <th>servant room</th>\n",
       "      <th>store room</th>\n",
       "      <th>pooja room</th>\n",
       "      <th>others</th>\n",
       "      <th>furnishing_type</th>\n",
       "      <th>luxury_score</th>\n",
       "    </tr>\n",
       "  </thead>\n",
       "  <tbody>\n",
       "    <tr>\n",
       "      <th>0</th>\n",
       "      <td>flat</td>\n",
       "      <td>signature global orchard avenue</td>\n",
       "      <td>sector 93</td>\n",
       "      <td>0.40</td>\n",
       "      <td>7359.0</td>\n",
       "      <td>544.0</td>\n",
       "      <td>Carpet area: 543.53 (50.5 sq.m.)</td>\n",
       "      <td>2</td>\n",
       "      <td>2</td>\n",
       "      <td>2</td>\n",
       "      <td>...</td>\n",
       "      <td>NaN</td>\n",
       "      <td>NaN</td>\n",
       "      <td>543.57695</td>\n",
       "      <td>0</td>\n",
       "      <td>0</td>\n",
       "      <td>0</td>\n",
       "      <td>0</td>\n",
       "      <td>0</td>\n",
       "      <td>0</td>\n",
       "      <td>37</td>\n",
       "    </tr>\n",
       "    <tr>\n",
       "      <th>1</th>\n",
       "      <td>flat</td>\n",
       "      <td>zara aavaas</td>\n",
       "      <td>sector 104</td>\n",
       "      <td>0.40</td>\n",
       "      <td>7029.0</td>\n",
       "      <td>569.0</td>\n",
       "      <td>Super Built up area 569(52.86 sq.m.)</td>\n",
       "      <td>2</td>\n",
       "      <td>2</td>\n",
       "      <td>1</td>\n",
       "      <td>...</td>\n",
       "      <td>569.0</td>\n",
       "      <td>NaN</td>\n",
       "      <td>NaN</td>\n",
       "      <td>0</td>\n",
       "      <td>0</td>\n",
       "      <td>0</td>\n",
       "      <td>0</td>\n",
       "      <td>0</td>\n",
       "      <td>0</td>\n",
       "      <td>38</td>\n",
       "    </tr>\n",
       "    <tr>\n",
       "      <th>2</th>\n",
       "      <td>flat</td>\n",
       "      <td>ats triumph</td>\n",
       "      <td>sector 104</td>\n",
       "      <td>2.55</td>\n",
       "      <td>13076.0</td>\n",
       "      <td>1950.0</td>\n",
       "      <td>Super Built up area 3150(292.64 sq.m.)Carpet a...</td>\n",
       "      <td>4</td>\n",
       "      <td>4</td>\n",
       "      <td>3+</td>\n",
       "      <td>...</td>\n",
       "      <td>3150.0</td>\n",
       "      <td>NaN</td>\n",
       "      <td>1950.00000</td>\n",
       "      <td>0</td>\n",
       "      <td>1</td>\n",
       "      <td>0</td>\n",
       "      <td>0</td>\n",
       "      <td>0</td>\n",
       "      <td>0</td>\n",
       "      <td>150</td>\n",
       "    </tr>\n",
       "    <tr>\n",
       "      <th>3</th>\n",
       "      <td>flat</td>\n",
       "      <td>experion the heartsong</td>\n",
       "      <td>sector 108</td>\n",
       "      <td>1.65</td>\n",
       "      <td>8237.0</td>\n",
       "      <td>2003.0</td>\n",
       "      <td>Super Built up area 2003(186.08 sq.m.)Built Up...</td>\n",
       "      <td>3</td>\n",
       "      <td>4</td>\n",
       "      <td>3</td>\n",
       "      <td>...</td>\n",
       "      <td>2003.0</td>\n",
       "      <td>1771.32</td>\n",
       "      <td>1302.01000</td>\n",
       "      <td>1</td>\n",
       "      <td>0</td>\n",
       "      <td>0</td>\n",
       "      <td>0</td>\n",
       "      <td>0</td>\n",
       "      <td>2</td>\n",
       "      <td>75</td>\n",
       "    </tr>\n",
       "    <tr>\n",
       "      <th>4</th>\n",
       "      <td>house</td>\n",
       "      <td>unitech deerwood chase</td>\n",
       "      <td>sector 50</td>\n",
       "      <td>8.45</td>\n",
       "      <td>235376.0</td>\n",
       "      <td>359.0</td>\n",
       "      <td>Plot area 359(33.35 sq.m.)</td>\n",
       "      <td>3</td>\n",
       "      <td>3</td>\n",
       "      <td>2</td>\n",
       "      <td>...</td>\n",
       "      <td>NaN</td>\n",
       "      <td>359.00</td>\n",
       "      <td>NaN</td>\n",
       "      <td>1</td>\n",
       "      <td>1</td>\n",
       "      <td>0</td>\n",
       "      <td>0</td>\n",
       "      <td>0</td>\n",
       "      <td>2</td>\n",
       "      <td>102</td>\n",
       "    </tr>\n",
       "  </tbody>\n",
       "</table>\n",
       "<p>5 rows × 23 columns</p>\n",
       "</div>\n",
       "    <div class=\"colab-df-buttons\">\n",
       "\n",
       "  <div class=\"colab-df-container\">\n",
       "    <button class=\"colab-df-convert\" onclick=\"convertToInteractive('df-f03fdda4-893e-4f92-bd05-d6b0321a5e8c')\"\n",
       "            title=\"Convert this dataframe to an interactive table.\"\n",
       "            style=\"display:none;\">\n",
       "\n",
       "  <svg xmlns=\"http://www.w3.org/2000/svg\" height=\"24px\" viewBox=\"0 -960 960 960\">\n",
       "    <path d=\"M120-120v-720h720v720H120Zm60-500h600v-160H180v160Zm220 220h160v-160H400v160Zm0 220h160v-160H400v160ZM180-400h160v-160H180v160Zm440 0h160v-160H620v160ZM180-180h160v-160H180v160Zm440 0h160v-160H620v160Z\"/>\n",
       "  </svg>\n",
       "    </button>\n",
       "\n",
       "  <style>\n",
       "    .colab-df-container {\n",
       "      display:flex;\n",
       "      gap: 12px;\n",
       "    }\n",
       "\n",
       "    .colab-df-convert {\n",
       "      background-color: #E8F0FE;\n",
       "      border: none;\n",
       "      border-radius: 50%;\n",
       "      cursor: pointer;\n",
       "      display: none;\n",
       "      fill: #1967D2;\n",
       "      height: 32px;\n",
       "      padding: 0 0 0 0;\n",
       "      width: 32px;\n",
       "    }\n",
       "\n",
       "    .colab-df-convert:hover {\n",
       "      background-color: #E2EBFA;\n",
       "      box-shadow: 0px 1px 2px rgba(60, 64, 67, 0.3), 0px 1px 3px 1px rgba(60, 64, 67, 0.15);\n",
       "      fill: #174EA6;\n",
       "    }\n",
       "\n",
       "    .colab-df-buttons div {\n",
       "      margin-bottom: 4px;\n",
       "    }\n",
       "\n",
       "    [theme=dark] .colab-df-convert {\n",
       "      background-color: #3B4455;\n",
       "      fill: #D2E3FC;\n",
       "    }\n",
       "\n",
       "    [theme=dark] .colab-df-convert:hover {\n",
       "      background-color: #434B5C;\n",
       "      box-shadow: 0px 1px 3px 1px rgba(0, 0, 0, 0.15);\n",
       "      filter: drop-shadow(0px 1px 2px rgba(0, 0, 0, 0.3));\n",
       "      fill: #FFFFFF;\n",
       "    }\n",
       "  </style>\n",
       "\n",
       "    <script>\n",
       "      const buttonEl =\n",
       "        document.querySelector('#df-f03fdda4-893e-4f92-bd05-d6b0321a5e8c button.colab-df-convert');\n",
       "      buttonEl.style.display =\n",
       "        google.colab.kernel.accessAllowed ? 'block' : 'none';\n",
       "\n",
       "      async function convertToInteractive(key) {\n",
       "        const element = document.querySelector('#df-f03fdda4-893e-4f92-bd05-d6b0321a5e8c');\n",
       "        const dataTable =\n",
       "          await google.colab.kernel.invokeFunction('convertToInteractive',\n",
       "                                                    [key], {});\n",
       "        if (!dataTable) return;\n",
       "\n",
       "        const docLinkHtml = 'Like what you see? Visit the ' +\n",
       "          '<a target=\"_blank\" href=https://colab.research.google.com/notebooks/data_table.ipynb>data table notebook</a>'\n",
       "          + ' to learn more about interactive tables.';\n",
       "        element.innerHTML = '';\n",
       "        dataTable['output_type'] = 'display_data';\n",
       "        await google.colab.output.renderOutput(dataTable, element);\n",
       "        const docLink = document.createElement('div');\n",
       "        docLink.innerHTML = docLinkHtml;\n",
       "        element.appendChild(docLink);\n",
       "      }\n",
       "    </script>\n",
       "  </div>\n",
       "\n",
       "\n",
       "<div id=\"df-92aaff76-f1a0-4958-9ef0-2111cd1e834f\">\n",
       "  <button class=\"colab-df-quickchart\" onclick=\"quickchart('df-92aaff76-f1a0-4958-9ef0-2111cd1e834f')\"\n",
       "            title=\"Suggest charts.\"\n",
       "            style=\"display:none;\">\n",
       "\n",
       "<svg xmlns=\"http://www.w3.org/2000/svg\" height=\"24px\"viewBox=\"0 0 24 24\"\n",
       "     width=\"24px\">\n",
       "    <g>\n",
       "        <path d=\"M19 3H5c-1.1 0-2 .9-2 2v14c0 1.1.9 2 2 2h14c1.1 0 2-.9 2-2V5c0-1.1-.9-2-2-2zM9 17H7v-7h2v7zm4 0h-2V7h2v10zm4 0h-2v-4h2v4z\"/>\n",
       "    </g>\n",
       "</svg>\n",
       "  </button>\n",
       "\n",
       "<style>\n",
       "  .colab-df-quickchart {\n",
       "      --bg-color: #E8F0FE;\n",
       "      --fill-color: #1967D2;\n",
       "      --hover-bg-color: #E2EBFA;\n",
       "      --hover-fill-color: #174EA6;\n",
       "      --disabled-fill-color: #AAA;\n",
       "      --disabled-bg-color: #DDD;\n",
       "  }\n",
       "\n",
       "  [theme=dark] .colab-df-quickchart {\n",
       "      --bg-color: #3B4455;\n",
       "      --fill-color: #D2E3FC;\n",
       "      --hover-bg-color: #434B5C;\n",
       "      --hover-fill-color: #FFFFFF;\n",
       "      --disabled-bg-color: #3B4455;\n",
       "      --disabled-fill-color: #666;\n",
       "  }\n",
       "\n",
       "  .colab-df-quickchart {\n",
       "    background-color: var(--bg-color);\n",
       "    border: none;\n",
       "    border-radius: 50%;\n",
       "    cursor: pointer;\n",
       "    display: none;\n",
       "    fill: var(--fill-color);\n",
       "    height: 32px;\n",
       "    padding: 0;\n",
       "    width: 32px;\n",
       "  }\n",
       "\n",
       "  .colab-df-quickchart:hover {\n",
       "    background-color: var(--hover-bg-color);\n",
       "    box-shadow: 0 1px 2px rgba(60, 64, 67, 0.3), 0 1px 3px 1px rgba(60, 64, 67, 0.15);\n",
       "    fill: var(--button-hover-fill-color);\n",
       "  }\n",
       "\n",
       "  .colab-df-quickchart-complete:disabled,\n",
       "  .colab-df-quickchart-complete:disabled:hover {\n",
       "    background-color: var(--disabled-bg-color);\n",
       "    fill: var(--disabled-fill-color);\n",
       "    box-shadow: none;\n",
       "  }\n",
       "\n",
       "  .colab-df-spinner {\n",
       "    border: 2px solid var(--fill-color);\n",
       "    border-color: transparent;\n",
       "    border-bottom-color: var(--fill-color);\n",
       "    animation:\n",
       "      spin 1s steps(1) infinite;\n",
       "  }\n",
       "\n",
       "  @keyframes spin {\n",
       "    0% {\n",
       "      border-color: transparent;\n",
       "      border-bottom-color: var(--fill-color);\n",
       "      border-left-color: var(--fill-color);\n",
       "    }\n",
       "    20% {\n",
       "      border-color: transparent;\n",
       "      border-left-color: var(--fill-color);\n",
       "      border-top-color: var(--fill-color);\n",
       "    }\n",
       "    30% {\n",
       "      border-color: transparent;\n",
       "      border-left-color: var(--fill-color);\n",
       "      border-top-color: var(--fill-color);\n",
       "      border-right-color: var(--fill-color);\n",
       "    }\n",
       "    40% {\n",
       "      border-color: transparent;\n",
       "      border-right-color: var(--fill-color);\n",
       "      border-top-color: var(--fill-color);\n",
       "    }\n",
       "    60% {\n",
       "      border-color: transparent;\n",
       "      border-right-color: var(--fill-color);\n",
       "    }\n",
       "    80% {\n",
       "      border-color: transparent;\n",
       "      border-right-color: var(--fill-color);\n",
       "      border-bottom-color: var(--fill-color);\n",
       "    }\n",
       "    90% {\n",
       "      border-color: transparent;\n",
       "      border-bottom-color: var(--fill-color);\n",
       "    }\n",
       "  }\n",
       "</style>\n",
       "\n",
       "  <script>\n",
       "    async function quickchart(key) {\n",
       "      const quickchartButtonEl =\n",
       "        document.querySelector('#' + key + ' button');\n",
       "      quickchartButtonEl.disabled = true;  // To prevent multiple clicks.\n",
       "      quickchartButtonEl.classList.add('colab-df-spinner');\n",
       "      try {\n",
       "        const charts = await google.colab.kernel.invokeFunction(\n",
       "            'suggestCharts', [key], {});\n",
       "      } catch (error) {\n",
       "        console.error('Error during call to suggestCharts:', error);\n",
       "      }\n",
       "      quickchartButtonEl.classList.remove('colab-df-spinner');\n",
       "      quickchartButtonEl.classList.add('colab-df-quickchart-complete');\n",
       "    }\n",
       "    (() => {\n",
       "      let quickchartButtonEl =\n",
       "        document.querySelector('#df-92aaff76-f1a0-4958-9ef0-2111cd1e834f button');\n",
       "      quickchartButtonEl.style.display =\n",
       "        google.colab.kernel.accessAllowed ? 'block' : 'none';\n",
       "    })();\n",
       "  </script>\n",
       "</div>\n",
       "    </div>\n",
       "  </div>\n"
      ],
      "text/plain": [
       "  property_type                          society      sector  price  \\\n",
       "0          flat  signature global orchard avenue   sector 93   0.40   \n",
       "1          flat                      zara aavaas  sector 104   0.40   \n",
       "2          flat                      ats triumph  sector 104   2.55   \n",
       "3          flat           experion the heartsong  sector 108   1.65   \n",
       "4         house           unitech deerwood chase   sector 50   8.45   \n",
       "\n",
       "   price_per_sqft    area                                       areaWithType  \\\n",
       "0          7359.0   544.0                   Carpet area: 543.53 (50.5 sq.m.)   \n",
       "1          7029.0   569.0               Super Built up area 569(52.86 sq.m.)   \n",
       "2         13076.0  1950.0  Super Built up area 3150(292.64 sq.m.)Carpet a...   \n",
       "3          8237.0  2003.0  Super Built up area 2003(186.08 sq.m.)Built Up...   \n",
       "4        235376.0   359.0                         Plot area 359(33.35 sq.m.)   \n",
       "\n",
       "   bedRoom  bathroom balcony  ...  super_built_up_area built_up_area  \\\n",
       "0        2         2       2  ...                  NaN           NaN   \n",
       "1        2         2       1  ...                569.0           NaN   \n",
       "2        4         4      3+  ...               3150.0           NaN   \n",
       "3        3         4       3  ...               2003.0       1771.32   \n",
       "4        3         3       2  ...                  NaN        359.00   \n",
       "\n",
       "  carpet_area  study room  servant room  store room  pooja room  others  \\\n",
       "0   543.57695           0             0           0           0       0   \n",
       "1         NaN           0             0           0           0       0   \n",
       "2  1950.00000           0             1           0           0       0   \n",
       "3  1302.01000           1             0           0           0       0   \n",
       "4         NaN           1             1           0           0       0   \n",
       "\n",
       "   furnishing_type  luxury_score  \n",
       "0                0            37  \n",
       "1                0            38  \n",
       "2                0           150  \n",
       "3                2            75  \n",
       "4                2           102  \n",
       "\n",
       "[5 rows x 23 columns]"
      ]
     },
     "execution_count": 59,
     "metadata": {},
     "output_type": "execute_result"
    }
   ],
   "source": [
    "df.head()"
   ]
  },
  {
   "cell_type": "markdown",
   "metadata": {
    "id": "T9aSCFQR4ubS"
   },
   "source": [
    "## **floorNum**"
   ]
  },
  {
   "cell_type": "code",
   "execution_count": 61,
   "metadata": {
    "colab": {
     "base_uri": "https://localhost:8080/",
     "height": 278
    },
    "id": "jKYLmQ1Q4scX",
    "outputId": "8d93382c-86b7-4cc5-b505-40ebdbd2be5b"
   },
   "outputs": [
    {
     "data": {
      "text/html": [
       "\n",
       "  <div id=\"df-b8cbfe27-92ce-4591-a02d-bf454f08cfbd\" class=\"colab-df-container\">\n",
       "    <div>\n",
       "<style scoped>\n",
       "    .dataframe tbody tr th:only-of-type {\n",
       "        vertical-align: middle;\n",
       "    }\n",
       "\n",
       "    .dataframe tbody tr th {\n",
       "        vertical-align: top;\n",
       "    }\n",
       "\n",
       "    .dataframe thead th {\n",
       "        text-align: right;\n",
       "    }\n",
       "</style>\n",
       "<table border=\"1\" class=\"dataframe\">\n",
       "  <thead>\n",
       "    <tr style=\"text-align: right;\">\n",
       "      <th></th>\n",
       "      <th>floorNum</th>\n",
       "      <th>facing</th>\n",
       "      <th>agePossession</th>\n",
       "      <th>super_built_up_area</th>\n",
       "      <th>built_up_area</th>\n",
       "      <th>carpet_area</th>\n",
       "      <th>study room</th>\n",
       "      <th>servant room</th>\n",
       "      <th>store room</th>\n",
       "      <th>pooja room</th>\n",
       "      <th>others</th>\n",
       "      <th>furnishing_type</th>\n",
       "      <th>luxury_score</th>\n",
       "    </tr>\n",
       "  </thead>\n",
       "  <tbody>\n",
       "    <tr>\n",
       "      <th>0</th>\n",
       "      <td>11.0</td>\n",
       "      <td>NaN</td>\n",
       "      <td>New Property</td>\n",
       "      <td>NaN</td>\n",
       "      <td>NaN</td>\n",
       "      <td>543.57695</td>\n",
       "      <td>0</td>\n",
       "      <td>0</td>\n",
       "      <td>0</td>\n",
       "      <td>0</td>\n",
       "      <td>0</td>\n",
       "      <td>0</td>\n",
       "      <td>37</td>\n",
       "    </tr>\n",
       "    <tr>\n",
       "      <th>1</th>\n",
       "      <td>14.0</td>\n",
       "      <td>NaN</td>\n",
       "      <td>Relatively New</td>\n",
       "      <td>569.0</td>\n",
       "      <td>NaN</td>\n",
       "      <td>NaN</td>\n",
       "      <td>0</td>\n",
       "      <td>0</td>\n",
       "      <td>0</td>\n",
       "      <td>0</td>\n",
       "      <td>0</td>\n",
       "      <td>0</td>\n",
       "      <td>38</td>\n",
       "    </tr>\n",
       "    <tr>\n",
       "      <th>2</th>\n",
       "      <td>21.0</td>\n",
       "      <td>East</td>\n",
       "      <td>Relatively New</td>\n",
       "      <td>3150.0</td>\n",
       "      <td>NaN</td>\n",
       "      <td>1950.00000</td>\n",
       "      <td>0</td>\n",
       "      <td>1</td>\n",
       "      <td>0</td>\n",
       "      <td>0</td>\n",
       "      <td>0</td>\n",
       "      <td>0</td>\n",
       "      <td>150</td>\n",
       "    </tr>\n",
       "    <tr>\n",
       "      <th>3</th>\n",
       "      <td>3.0</td>\n",
       "      <td>North-West</td>\n",
       "      <td>Moderately Old</td>\n",
       "      <td>2003.0</td>\n",
       "      <td>1771.32</td>\n",
       "      <td>1302.01000</td>\n",
       "      <td>1</td>\n",
       "      <td>0</td>\n",
       "      <td>0</td>\n",
       "      <td>0</td>\n",
       "      <td>0</td>\n",
       "      <td>2</td>\n",
       "      <td>75</td>\n",
       "    </tr>\n",
       "    <tr>\n",
       "      <th>4</th>\n",
       "      <td>2.0</td>\n",
       "      <td>North-East</td>\n",
       "      <td>Old Property</td>\n",
       "      <td>NaN</td>\n",
       "      <td>359.00</td>\n",
       "      <td>NaN</td>\n",
       "      <td>1</td>\n",
       "      <td>1</td>\n",
       "      <td>0</td>\n",
       "      <td>0</td>\n",
       "      <td>0</td>\n",
       "      <td>2</td>\n",
       "      <td>102</td>\n",
       "    </tr>\n",
       "  </tbody>\n",
       "</table>\n",
       "</div>\n",
       "    <div class=\"colab-df-buttons\">\n",
       "\n",
       "  <div class=\"colab-df-container\">\n",
       "    <button class=\"colab-df-convert\" onclick=\"convertToInteractive('df-b8cbfe27-92ce-4591-a02d-bf454f08cfbd')\"\n",
       "            title=\"Convert this dataframe to an interactive table.\"\n",
       "            style=\"display:none;\">\n",
       "\n",
       "  <svg xmlns=\"http://www.w3.org/2000/svg\" height=\"24px\" viewBox=\"0 -960 960 960\">\n",
       "    <path d=\"M120-120v-720h720v720H120Zm60-500h600v-160H180v160Zm220 220h160v-160H400v160Zm0 220h160v-160H400v160ZM180-400h160v-160H180v160Zm440 0h160v-160H620v160ZM180-180h160v-160H180v160Zm440 0h160v-160H620v160Z\"/>\n",
       "  </svg>\n",
       "    </button>\n",
       "\n",
       "  <style>\n",
       "    .colab-df-container {\n",
       "      display:flex;\n",
       "      gap: 12px;\n",
       "    }\n",
       "\n",
       "    .colab-df-convert {\n",
       "      background-color: #E8F0FE;\n",
       "      border: none;\n",
       "      border-radius: 50%;\n",
       "      cursor: pointer;\n",
       "      display: none;\n",
       "      fill: #1967D2;\n",
       "      height: 32px;\n",
       "      padding: 0 0 0 0;\n",
       "      width: 32px;\n",
       "    }\n",
       "\n",
       "    .colab-df-convert:hover {\n",
       "      background-color: #E2EBFA;\n",
       "      box-shadow: 0px 1px 2px rgba(60, 64, 67, 0.3), 0px 1px 3px 1px rgba(60, 64, 67, 0.15);\n",
       "      fill: #174EA6;\n",
       "    }\n",
       "\n",
       "    .colab-df-buttons div {\n",
       "      margin-bottom: 4px;\n",
       "    }\n",
       "\n",
       "    [theme=dark] .colab-df-convert {\n",
       "      background-color: #3B4455;\n",
       "      fill: #D2E3FC;\n",
       "    }\n",
       "\n",
       "    [theme=dark] .colab-df-convert:hover {\n",
       "      background-color: #434B5C;\n",
       "      box-shadow: 0px 1px 3px 1px rgba(0, 0, 0, 0.15);\n",
       "      filter: drop-shadow(0px 1px 2px rgba(0, 0, 0, 0.3));\n",
       "      fill: #FFFFFF;\n",
       "    }\n",
       "  </style>\n",
       "\n",
       "    <script>\n",
       "      const buttonEl =\n",
       "        document.querySelector('#df-b8cbfe27-92ce-4591-a02d-bf454f08cfbd button.colab-df-convert');\n",
       "      buttonEl.style.display =\n",
       "        google.colab.kernel.accessAllowed ? 'block' : 'none';\n",
       "\n",
       "      async function convertToInteractive(key) {\n",
       "        const element = document.querySelector('#df-b8cbfe27-92ce-4591-a02d-bf454f08cfbd');\n",
       "        const dataTable =\n",
       "          await google.colab.kernel.invokeFunction('convertToInteractive',\n",
       "                                                    [key], {});\n",
       "        if (!dataTable) return;\n",
       "\n",
       "        const docLinkHtml = 'Like what you see? Visit the ' +\n",
       "          '<a target=\"_blank\" href=https://colab.research.google.com/notebooks/data_table.ipynb>data table notebook</a>'\n",
       "          + ' to learn more about interactive tables.';\n",
       "        element.innerHTML = '';\n",
       "        dataTable['output_type'] = 'display_data';\n",
       "        await google.colab.output.renderOutput(dataTable, element);\n",
       "        const docLink = document.createElement('div');\n",
       "        docLink.innerHTML = docLinkHtml;\n",
       "        element.appendChild(docLink);\n",
       "      }\n",
       "    </script>\n",
       "  </div>\n",
       "\n",
       "\n",
       "<div id=\"df-27384238-16be-4dc4-9766-fb6cf0113c47\">\n",
       "  <button class=\"colab-df-quickchart\" onclick=\"quickchart('df-27384238-16be-4dc4-9766-fb6cf0113c47')\"\n",
       "            title=\"Suggest charts.\"\n",
       "            style=\"display:none;\">\n",
       "\n",
       "<svg xmlns=\"http://www.w3.org/2000/svg\" height=\"24px\"viewBox=\"0 0 24 24\"\n",
       "     width=\"24px\">\n",
       "    <g>\n",
       "        <path d=\"M19 3H5c-1.1 0-2 .9-2 2v14c0 1.1.9 2 2 2h14c1.1 0 2-.9 2-2V5c0-1.1-.9-2-2-2zM9 17H7v-7h2v7zm4 0h-2V7h2v10zm4 0h-2v-4h2v4z\"/>\n",
       "    </g>\n",
       "</svg>\n",
       "  </button>\n",
       "\n",
       "<style>\n",
       "  .colab-df-quickchart {\n",
       "      --bg-color: #E8F0FE;\n",
       "      --fill-color: #1967D2;\n",
       "      --hover-bg-color: #E2EBFA;\n",
       "      --hover-fill-color: #174EA6;\n",
       "      --disabled-fill-color: #AAA;\n",
       "      --disabled-bg-color: #DDD;\n",
       "  }\n",
       "\n",
       "  [theme=dark] .colab-df-quickchart {\n",
       "      --bg-color: #3B4455;\n",
       "      --fill-color: #D2E3FC;\n",
       "      --hover-bg-color: #434B5C;\n",
       "      --hover-fill-color: #FFFFFF;\n",
       "      --disabled-bg-color: #3B4455;\n",
       "      --disabled-fill-color: #666;\n",
       "  }\n",
       "\n",
       "  .colab-df-quickchart {\n",
       "    background-color: var(--bg-color);\n",
       "    border: none;\n",
       "    border-radius: 50%;\n",
       "    cursor: pointer;\n",
       "    display: none;\n",
       "    fill: var(--fill-color);\n",
       "    height: 32px;\n",
       "    padding: 0;\n",
       "    width: 32px;\n",
       "  }\n",
       "\n",
       "  .colab-df-quickchart:hover {\n",
       "    background-color: var(--hover-bg-color);\n",
       "    box-shadow: 0 1px 2px rgba(60, 64, 67, 0.3), 0 1px 3px 1px rgba(60, 64, 67, 0.15);\n",
       "    fill: var(--button-hover-fill-color);\n",
       "  }\n",
       "\n",
       "  .colab-df-quickchart-complete:disabled,\n",
       "  .colab-df-quickchart-complete:disabled:hover {\n",
       "    background-color: var(--disabled-bg-color);\n",
       "    fill: var(--disabled-fill-color);\n",
       "    box-shadow: none;\n",
       "  }\n",
       "\n",
       "  .colab-df-spinner {\n",
       "    border: 2px solid var(--fill-color);\n",
       "    border-color: transparent;\n",
       "    border-bottom-color: var(--fill-color);\n",
       "    animation:\n",
       "      spin 1s steps(1) infinite;\n",
       "  }\n",
       "\n",
       "  @keyframes spin {\n",
       "    0% {\n",
       "      border-color: transparent;\n",
       "      border-bottom-color: var(--fill-color);\n",
       "      border-left-color: var(--fill-color);\n",
       "    }\n",
       "    20% {\n",
       "      border-color: transparent;\n",
       "      border-left-color: var(--fill-color);\n",
       "      border-top-color: var(--fill-color);\n",
       "    }\n",
       "    30% {\n",
       "      border-color: transparent;\n",
       "      border-left-color: var(--fill-color);\n",
       "      border-top-color: var(--fill-color);\n",
       "      border-right-color: var(--fill-color);\n",
       "    }\n",
       "    40% {\n",
       "      border-color: transparent;\n",
       "      border-right-color: var(--fill-color);\n",
       "      border-top-color: var(--fill-color);\n",
       "    }\n",
       "    60% {\n",
       "      border-color: transparent;\n",
       "      border-right-color: var(--fill-color);\n",
       "    }\n",
       "    80% {\n",
       "      border-color: transparent;\n",
       "      border-right-color: var(--fill-color);\n",
       "      border-bottom-color: var(--fill-color);\n",
       "    }\n",
       "    90% {\n",
       "      border-color: transparent;\n",
       "      border-bottom-color: var(--fill-color);\n",
       "    }\n",
       "  }\n",
       "</style>\n",
       "\n",
       "  <script>\n",
       "    async function quickchart(key) {\n",
       "      const quickchartButtonEl =\n",
       "        document.querySelector('#' + key + ' button');\n",
       "      quickchartButtonEl.disabled = true;  // To prevent multiple clicks.\n",
       "      quickchartButtonEl.classList.add('colab-df-spinner');\n",
       "      try {\n",
       "        const charts = await google.colab.kernel.invokeFunction(\n",
       "            'suggestCharts', [key], {});\n",
       "      } catch (error) {\n",
       "        console.error('Error during call to suggestCharts:', error);\n",
       "      }\n",
       "      quickchartButtonEl.classList.remove('colab-df-spinner');\n",
       "      quickchartButtonEl.classList.add('colab-df-quickchart-complete');\n",
       "    }\n",
       "    (() => {\n",
       "      let quickchartButtonEl =\n",
       "        document.querySelector('#df-27384238-16be-4dc4-9766-fb6cf0113c47 button');\n",
       "      quickchartButtonEl.style.display =\n",
       "        google.colab.kernel.accessAllowed ? 'block' : 'none';\n",
       "    })();\n",
       "  </script>\n",
       "</div>\n",
       "    </div>\n",
       "  </div>\n"
      ],
      "text/plain": [
       "   floorNum      facing   agePossession  super_built_up_area  built_up_area  \\\n",
       "0      11.0         NaN    New Property                  NaN            NaN   \n",
       "1      14.0         NaN  Relatively New                569.0            NaN   \n",
       "2      21.0        East  Relatively New               3150.0            NaN   \n",
       "3       3.0  North-West  Moderately Old               2003.0        1771.32   \n",
       "4       2.0  North-East    Old Property                  NaN         359.00   \n",
       "\n",
       "   carpet_area  study room  servant room  store room  pooja room  others  \\\n",
       "0    543.57695           0             0           0           0       0   \n",
       "1          NaN           0             0           0           0       0   \n",
       "2   1950.00000           0             1           0           0       0   \n",
       "3   1302.01000           1             0           0           0       0   \n",
       "4          NaN           1             1           0           0       0   \n",
       "\n",
       "   furnishing_type  luxury_score  \n",
       "0                0            37  \n",
       "1                0            38  \n",
       "2                0           150  \n",
       "3                2            75  \n",
       "4                2           102  "
      ]
     },
     "execution_count": 61,
     "metadata": {},
     "output_type": "execute_result"
    }
   ],
   "source": [
    "\n",
    "df.iloc[:,10:].head()"
   ]
  },
  {
   "cell_type": "code",
   "execution_count": null,
   "metadata": {
    "id": "1hUY7yjJ4zd5"
   },
   "outputs": [],
   "source": []
  }
 ],
 "metadata": {
  "colab": {
   "provenance": []
  },
  "kernelspec": {
   "display_name": "Python 3 (ipykernel)",
   "language": "python",
   "name": "python3"
  },
  "language_info": {
   "codemirror_mode": {
    "name": "ipython",
    "version": 3
   },
   "file_extension": ".py",
   "mimetype": "text/x-python",
   "name": "python",
   "nbconvert_exporter": "python",
   "pygments_lexer": "ipython3",
   "version": "3.9.13"
  }
 },
 "nbformat": 4,
 "nbformat_minor": 1
}
